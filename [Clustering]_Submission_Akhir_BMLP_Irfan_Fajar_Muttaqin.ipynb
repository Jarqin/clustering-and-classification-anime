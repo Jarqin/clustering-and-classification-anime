{
  "nbformat": 4,
  "nbformat_minor": 0,
  "metadata": {
    "colab": {
      "provenance": []
    },
    "kernelspec": {
      "name": "python3",
      "display_name": "Python 3"
    },
    "language_info": {
      "name": "python"
    }
  },
  "cells": [
    {
      "cell_type": "markdown",
      "source": [
        "# **1. Perkenalan Dataset**\n"
      ],
      "metadata": {
        "id": "kZLRMFl0JyyQ"
      }
    },
    {
      "cell_type": "markdown",
      "source": [
        "Tahap pertama, Anda harus mencari dan menggunakan dataset **tanpa label** dengan ketentuan sebagai berikut:\n",
        "\n",
        "1. **Sumber Dataset**:  \n",
        "   Dataset dapat diperoleh dari berbagai sumber, seperti public repositories (*Kaggle*, *UCI ML Repository*, *Open Data*) atau data primer yang Anda kumpulkan sendiri.\n",
        "   \n",
        "2. **Ketentuan Dataset**:\n",
        "   - **Tanpa label**: Dataset tidak boleh memiliki label atau kelas.\n",
        "   - **Jumlah Baris**: Minimal 1000 baris untuk memastikan dataset cukup besar untuk analisis yang bermakna.\n",
        "   - **Tipe Data**: Harus mengandung data **kategorikal** dan **numerikal**.\n",
        "     - *Kategorikal*: Misalnya jenis kelamin, kategori produk.\n",
        "     - *Numerikal*: Misalnya usia, pendapatan, harga.\n",
        "\n",
        "3. **Pembatasan**:  \n",
        "   Dataset yang sudah digunakan dalam latihan clustering (seperti customer segmentation) tidak boleh digunakan."
      ],
      "metadata": {
        "id": "hssSDn-5n3HR"
      }
    },
    {
      "cell_type": "markdown",
      "source": [
        "# **2. Import Library**"
      ],
      "metadata": {
        "id": "fKADPWcFKlj3"
      }
    },
    {
      "cell_type": "markdown",
      "source": [
        "Pada tahap ini, Anda perlu mengimpor beberapa pustaka (library) Python yang dibutuhkan untuk analisis data dan pembangunan model machine learning."
      ],
      "metadata": {
        "id": "LgA3ERnVn84N"
      }
    },
    {
      "cell_type": "code",
      "source": [
        "import pandas as pd\n",
        "import numpy as np\n",
        "import seaborn as sns\n",
        "import matplotlib.pyplot as plt\n",
        "from sklearn.cluster import KMeans\n",
        "from sklearn.preprocessing import StandardScaler, OneHotEncoder\n",
        "from sklearn.metrics import silhouette_score\n",
        "from sklearn.decomposition import PCA\n",
        "from collections import Counter\n",
        "from sklearn.feature_selection import SelectKBest, f_classif\n",
        "from sklearn.model_selection import train_test_split"
      ],
      "metadata": {
        "id": "BlmvjLY9M4Yj"
      },
      "execution_count": 1,
      "outputs": []
    },
    {
      "cell_type": "markdown",
      "source": [
        "# **3. Memuat Dataset**"
      ],
      "metadata": {
        "id": "f3YIEnAFKrKL"
      }
    },
    {
      "cell_type": "markdown",
      "source": [
        "Pada tahap ini, Anda perlu memuat dataset ke dalam notebook. Jika dataset dalam format CSV, Anda bisa menggunakan pustaka pandas untuk membacanya. Pastikan untuk mengecek beberapa baris awal dataset untuk memahami strukturnya dan memastikan data telah dimuat dengan benar.\n",
        "\n",
        "Jika dataset berada di Google Drive, pastikan Anda menghubungkan Google Drive ke Colab terlebih dahulu. Setelah dataset berhasil dimuat, langkah berikutnya adalah memeriksa kesesuaian data dan siap untuk dianalisis lebih lanjut."
      ],
      "metadata": {
        "id": "Ey3ItwTen_7E"
      }
    },
    {
      "cell_type": "code",
      "source": [
        "anime_df = pd.read_csv(\"/content/dataset_clustering.csv\")"
      ],
      "metadata": {
        "id": "GHCGNTyrM5fS"
      },
      "execution_count": 2,
      "outputs": []
    },
    {
      "cell_type": "markdown",
      "source": [
        "# **4. Exploratory Data Analysis (EDA)**"
      ],
      "metadata": {
        "id": "bgZkbJLpK9UR"
      }
    },
    {
      "cell_type": "markdown",
      "source": [
        "Pada tahap ini, Anda akan melakukan **Exploratory Data Analysis (EDA)** untuk memahami karakteristik dataset. EDA bertujuan untuk:\n",
        "\n",
        "1. **Memahami Struktur Data**\n",
        "   - Tinjau jumlah baris dan kolom dalam dataset.  \n",
        "   - Tinjau jenis data di setiap kolom (numerikal atau kategorikal).\n",
        "\n",
        "2. **Menangani Data yang Hilang**  \n",
        "   - Identifikasi dan analisis data yang hilang (*missing values*). Tentukan langkah-langkah yang diperlukan untuk menangani data yang hilang, seperti pengisian atau penghapusan data tersebut.\n",
        "\n",
        "3. **Analisis Distribusi dan Korelasi**  \n",
        "   - Analisis distribusi variabel numerik dengan statistik deskriptif dan visualisasi seperti histogram atau boxplot.  \n",
        "   - Periksa hubungan antara variabel menggunakan matriks korelasi atau scatter plot.\n",
        "\n",
        "4. **Visualisasi Data**  \n",
        "   - Buat visualisasi dasar seperti grafik distribusi dan diagram batang untuk variabel kategorikal.  \n",
        "   - Gunakan heatmap atau pairplot untuk menganalisis korelasi antar variabel.\n",
        "\n",
        "Tujuan dari EDA adalah untuk memperoleh wawasan awal yang mendalam mengenai data dan menentukan langkah selanjutnya dalam analisis atau pemodelan."
      ],
      "metadata": {
        "id": "qZZCpzhGAhz3"
      }
    },
    {
      "cell_type": "code",
      "source": [
        "anime_df.describe()"
      ],
      "metadata": {
        "id": "dKeejtvxM6X1",
        "colab": {
          "base_uri": "https://localhost:8080/",
          "height": 300
        },
        "outputId": "b8321033-2489-414e-9e3b-9b25111d1d22"
      },
      "execution_count": 3,
      "outputs": [
        {
          "output_type": "execute_result",
          "data": {
            "text/plain": [
              "           anime_id        rating       members\n",
              "count  12294.000000  12064.000000  1.229400e+04\n",
              "mean   14058.221653      6.473902  1.807134e+04\n",
              "std    11455.294701      1.026746  5.482068e+04\n",
              "min        1.000000      1.670000  5.000000e+00\n",
              "25%     3484.250000      5.880000  2.250000e+02\n",
              "50%    10260.500000      6.570000  1.550000e+03\n",
              "75%    24794.500000      7.180000  9.437000e+03\n",
              "max    34527.000000     10.000000  1.013917e+06"
            ],
            "text/html": [
              "\n",
              "  <div id=\"df-e13aa9be-c46b-469e-a32c-c0d1e6e06a41\" class=\"colab-df-container\">\n",
              "    <div>\n",
              "<style scoped>\n",
              "    .dataframe tbody tr th:only-of-type {\n",
              "        vertical-align: middle;\n",
              "    }\n",
              "\n",
              "    .dataframe tbody tr th {\n",
              "        vertical-align: top;\n",
              "    }\n",
              "\n",
              "    .dataframe thead th {\n",
              "        text-align: right;\n",
              "    }\n",
              "</style>\n",
              "<table border=\"1\" class=\"dataframe\">\n",
              "  <thead>\n",
              "    <tr style=\"text-align: right;\">\n",
              "      <th></th>\n",
              "      <th>anime_id</th>\n",
              "      <th>rating</th>\n",
              "      <th>members</th>\n",
              "    </tr>\n",
              "  </thead>\n",
              "  <tbody>\n",
              "    <tr>\n",
              "      <th>count</th>\n",
              "      <td>12294.000000</td>\n",
              "      <td>12064.000000</td>\n",
              "      <td>1.229400e+04</td>\n",
              "    </tr>\n",
              "    <tr>\n",
              "      <th>mean</th>\n",
              "      <td>14058.221653</td>\n",
              "      <td>6.473902</td>\n",
              "      <td>1.807134e+04</td>\n",
              "    </tr>\n",
              "    <tr>\n",
              "      <th>std</th>\n",
              "      <td>11455.294701</td>\n",
              "      <td>1.026746</td>\n",
              "      <td>5.482068e+04</td>\n",
              "    </tr>\n",
              "    <tr>\n",
              "      <th>min</th>\n",
              "      <td>1.000000</td>\n",
              "      <td>1.670000</td>\n",
              "      <td>5.000000e+00</td>\n",
              "    </tr>\n",
              "    <tr>\n",
              "      <th>25%</th>\n",
              "      <td>3484.250000</td>\n",
              "      <td>5.880000</td>\n",
              "      <td>2.250000e+02</td>\n",
              "    </tr>\n",
              "    <tr>\n",
              "      <th>50%</th>\n",
              "      <td>10260.500000</td>\n",
              "      <td>6.570000</td>\n",
              "      <td>1.550000e+03</td>\n",
              "    </tr>\n",
              "    <tr>\n",
              "      <th>75%</th>\n",
              "      <td>24794.500000</td>\n",
              "      <td>7.180000</td>\n",
              "      <td>9.437000e+03</td>\n",
              "    </tr>\n",
              "    <tr>\n",
              "      <th>max</th>\n",
              "      <td>34527.000000</td>\n",
              "      <td>10.000000</td>\n",
              "      <td>1.013917e+06</td>\n",
              "    </tr>\n",
              "  </tbody>\n",
              "</table>\n",
              "</div>\n",
              "    <div class=\"colab-df-buttons\">\n",
              "\n",
              "  <div class=\"colab-df-container\">\n",
              "    <button class=\"colab-df-convert\" onclick=\"convertToInteractive('df-e13aa9be-c46b-469e-a32c-c0d1e6e06a41')\"\n",
              "            title=\"Convert this dataframe to an interactive table.\"\n",
              "            style=\"display:none;\">\n",
              "\n",
              "  <svg xmlns=\"http://www.w3.org/2000/svg\" height=\"24px\" viewBox=\"0 -960 960 960\">\n",
              "    <path d=\"M120-120v-720h720v720H120Zm60-500h600v-160H180v160Zm220 220h160v-160H400v160Zm0 220h160v-160H400v160ZM180-400h160v-160H180v160Zm440 0h160v-160H620v160ZM180-180h160v-160H180v160Zm440 0h160v-160H620v160Z\"/>\n",
              "  </svg>\n",
              "    </button>\n",
              "\n",
              "  <style>\n",
              "    .colab-df-container {\n",
              "      display:flex;\n",
              "      gap: 12px;\n",
              "    }\n",
              "\n",
              "    .colab-df-convert {\n",
              "      background-color: #E8F0FE;\n",
              "      border: none;\n",
              "      border-radius: 50%;\n",
              "      cursor: pointer;\n",
              "      display: none;\n",
              "      fill: #1967D2;\n",
              "      height: 32px;\n",
              "      padding: 0 0 0 0;\n",
              "      width: 32px;\n",
              "    }\n",
              "\n",
              "    .colab-df-convert:hover {\n",
              "      background-color: #E2EBFA;\n",
              "      box-shadow: 0px 1px 2px rgba(60, 64, 67, 0.3), 0px 1px 3px 1px rgba(60, 64, 67, 0.15);\n",
              "      fill: #174EA6;\n",
              "    }\n",
              "\n",
              "    .colab-df-buttons div {\n",
              "      margin-bottom: 4px;\n",
              "    }\n",
              "\n",
              "    [theme=dark] .colab-df-convert {\n",
              "      background-color: #3B4455;\n",
              "      fill: #D2E3FC;\n",
              "    }\n",
              "\n",
              "    [theme=dark] .colab-df-convert:hover {\n",
              "      background-color: #434B5C;\n",
              "      box-shadow: 0px 1px 3px 1px rgba(0, 0, 0, 0.15);\n",
              "      filter: drop-shadow(0px 1px 2px rgba(0, 0, 0, 0.3));\n",
              "      fill: #FFFFFF;\n",
              "    }\n",
              "  </style>\n",
              "\n",
              "    <script>\n",
              "      const buttonEl =\n",
              "        document.querySelector('#df-e13aa9be-c46b-469e-a32c-c0d1e6e06a41 button.colab-df-convert');\n",
              "      buttonEl.style.display =\n",
              "        google.colab.kernel.accessAllowed ? 'block' : 'none';\n",
              "\n",
              "      async function convertToInteractive(key) {\n",
              "        const element = document.querySelector('#df-e13aa9be-c46b-469e-a32c-c0d1e6e06a41');\n",
              "        const dataTable =\n",
              "          await google.colab.kernel.invokeFunction('convertToInteractive',\n",
              "                                                    [key], {});\n",
              "        if (!dataTable) return;\n",
              "\n",
              "        const docLinkHtml = 'Like what you see? Visit the ' +\n",
              "          '<a target=\"_blank\" href=https://colab.research.google.com/notebooks/data_table.ipynb>data table notebook</a>'\n",
              "          + ' to learn more about interactive tables.';\n",
              "        element.innerHTML = '';\n",
              "        dataTable['output_type'] = 'display_data';\n",
              "        await google.colab.output.renderOutput(dataTable, element);\n",
              "        const docLink = document.createElement('div');\n",
              "        docLink.innerHTML = docLinkHtml;\n",
              "        element.appendChild(docLink);\n",
              "      }\n",
              "    </script>\n",
              "  </div>\n",
              "\n",
              "\n",
              "<div id=\"df-442acbc8-532b-42dd-9bf5-0066ff03909f\">\n",
              "  <button class=\"colab-df-quickchart\" onclick=\"quickchart('df-442acbc8-532b-42dd-9bf5-0066ff03909f')\"\n",
              "            title=\"Suggest charts\"\n",
              "            style=\"display:none;\">\n",
              "\n",
              "<svg xmlns=\"http://www.w3.org/2000/svg\" height=\"24px\"viewBox=\"0 0 24 24\"\n",
              "     width=\"24px\">\n",
              "    <g>\n",
              "        <path d=\"M19 3H5c-1.1 0-2 .9-2 2v14c0 1.1.9 2 2 2h14c1.1 0 2-.9 2-2V5c0-1.1-.9-2-2-2zM9 17H7v-7h2v7zm4 0h-2V7h2v10zm4 0h-2v-4h2v4z\"/>\n",
              "    </g>\n",
              "</svg>\n",
              "  </button>\n",
              "\n",
              "<style>\n",
              "  .colab-df-quickchart {\n",
              "      --bg-color: #E8F0FE;\n",
              "      --fill-color: #1967D2;\n",
              "      --hover-bg-color: #E2EBFA;\n",
              "      --hover-fill-color: #174EA6;\n",
              "      --disabled-fill-color: #AAA;\n",
              "      --disabled-bg-color: #DDD;\n",
              "  }\n",
              "\n",
              "  [theme=dark] .colab-df-quickchart {\n",
              "      --bg-color: #3B4455;\n",
              "      --fill-color: #D2E3FC;\n",
              "      --hover-bg-color: #434B5C;\n",
              "      --hover-fill-color: #FFFFFF;\n",
              "      --disabled-bg-color: #3B4455;\n",
              "      --disabled-fill-color: #666;\n",
              "  }\n",
              "\n",
              "  .colab-df-quickchart {\n",
              "    background-color: var(--bg-color);\n",
              "    border: none;\n",
              "    border-radius: 50%;\n",
              "    cursor: pointer;\n",
              "    display: none;\n",
              "    fill: var(--fill-color);\n",
              "    height: 32px;\n",
              "    padding: 0;\n",
              "    width: 32px;\n",
              "  }\n",
              "\n",
              "  .colab-df-quickchart:hover {\n",
              "    background-color: var(--hover-bg-color);\n",
              "    box-shadow: 0 1px 2px rgba(60, 64, 67, 0.3), 0 1px 3px 1px rgba(60, 64, 67, 0.15);\n",
              "    fill: var(--button-hover-fill-color);\n",
              "  }\n",
              "\n",
              "  .colab-df-quickchart-complete:disabled,\n",
              "  .colab-df-quickchart-complete:disabled:hover {\n",
              "    background-color: var(--disabled-bg-color);\n",
              "    fill: var(--disabled-fill-color);\n",
              "    box-shadow: none;\n",
              "  }\n",
              "\n",
              "  .colab-df-spinner {\n",
              "    border: 2px solid var(--fill-color);\n",
              "    border-color: transparent;\n",
              "    border-bottom-color: var(--fill-color);\n",
              "    animation:\n",
              "      spin 1s steps(1) infinite;\n",
              "  }\n",
              "\n",
              "  @keyframes spin {\n",
              "    0% {\n",
              "      border-color: transparent;\n",
              "      border-bottom-color: var(--fill-color);\n",
              "      border-left-color: var(--fill-color);\n",
              "    }\n",
              "    20% {\n",
              "      border-color: transparent;\n",
              "      border-left-color: var(--fill-color);\n",
              "      border-top-color: var(--fill-color);\n",
              "    }\n",
              "    30% {\n",
              "      border-color: transparent;\n",
              "      border-left-color: var(--fill-color);\n",
              "      border-top-color: var(--fill-color);\n",
              "      border-right-color: var(--fill-color);\n",
              "    }\n",
              "    40% {\n",
              "      border-color: transparent;\n",
              "      border-right-color: var(--fill-color);\n",
              "      border-top-color: var(--fill-color);\n",
              "    }\n",
              "    60% {\n",
              "      border-color: transparent;\n",
              "      border-right-color: var(--fill-color);\n",
              "    }\n",
              "    80% {\n",
              "      border-color: transparent;\n",
              "      border-right-color: var(--fill-color);\n",
              "      border-bottom-color: var(--fill-color);\n",
              "    }\n",
              "    90% {\n",
              "      border-color: transparent;\n",
              "      border-bottom-color: var(--fill-color);\n",
              "    }\n",
              "  }\n",
              "</style>\n",
              "\n",
              "  <script>\n",
              "    async function quickchart(key) {\n",
              "      const quickchartButtonEl =\n",
              "        document.querySelector('#' + key + ' button');\n",
              "      quickchartButtonEl.disabled = true;  // To prevent multiple clicks.\n",
              "      quickchartButtonEl.classList.add('colab-df-spinner');\n",
              "      try {\n",
              "        const charts = await google.colab.kernel.invokeFunction(\n",
              "            'suggestCharts', [key], {});\n",
              "      } catch (error) {\n",
              "        console.error('Error during call to suggestCharts:', error);\n",
              "      }\n",
              "      quickchartButtonEl.classList.remove('colab-df-spinner');\n",
              "      quickchartButtonEl.classList.add('colab-df-quickchart-complete');\n",
              "    }\n",
              "    (() => {\n",
              "      let quickchartButtonEl =\n",
              "        document.querySelector('#df-442acbc8-532b-42dd-9bf5-0066ff03909f button');\n",
              "      quickchartButtonEl.style.display =\n",
              "        google.colab.kernel.accessAllowed ? 'block' : 'none';\n",
              "    })();\n",
              "  </script>\n",
              "</div>\n",
              "\n",
              "    </div>\n",
              "  </div>\n"
            ],
            "application/vnd.google.colaboratory.intrinsic+json": {
              "type": "dataframe",
              "summary": "{\n  \"name\": \"anime_df\",\n  \"rows\": 8,\n  \"fields\": [\n    {\n      \"column\": \"anime_id\",\n      \"properties\": {\n        \"dtype\": \"number\",\n        \"std\": 11133.263547568791,\n        \"min\": 1.0,\n        \"max\": 34527.0,\n        \"num_unique_values\": 8,\n        \"samples\": [\n          14058.221652838783,\n          10260.5,\n          12294.0\n        ],\n        \"semantic_type\": \"\",\n        \"description\": \"\"\n      }\n    },\n    {\n      \"column\": \"rating\",\n      \"properties\": {\n        \"dtype\": \"number\",\n        \"std\": 4263.309380308144,\n        \"min\": 1.0267463068980598,\n        \"max\": 12064.0,\n        \"num_unique_values\": 8,\n        \"samples\": [\n          6.473901690981432,\n          6.57,\n          12064.0\n        ],\n        \"semantic_type\": \"\",\n        \"description\": \"\"\n      }\n    },\n    {\n      \"column\": \"members\",\n      \"properties\": {\n        \"dtype\": \"number\",\n        \"std\": 354058.2878098787,\n        \"min\": 5.0,\n        \"max\": 1013917.0,\n        \"num_unique_values\": 8,\n        \"samples\": [\n          18071.33886448674,\n          1550.0,\n          12294.0\n        ],\n        \"semantic_type\": \"\",\n        \"description\": \"\"\n      }\n    }\n  ]\n}"
            }
          },
          "metadata": {},
          "execution_count": 3
        }
      ]
    },
    {
      "cell_type": "code",
      "source": [
        "anime_df.head()"
      ],
      "metadata": {
        "colab": {
          "base_uri": "https://localhost:8080/",
          "height": 258
        },
        "id": "oi4gp9GK0vZ7",
        "outputId": "1a214f1f-ae70-4b15-cb65-bbdfb60620f7"
      },
      "execution_count": 4,
      "outputs": [
        {
          "output_type": "execute_result",
          "data": {
            "text/plain": [
              "   anime_id                              name  \\\n",
              "0     32281                    Kimi no Na wa.   \n",
              "1      5114  Fullmetal Alchemist: Brotherhood   \n",
              "2     28977                          Gintama°   \n",
              "3      9253                       Steins;Gate   \n",
              "4      9969                     Gintama&#039;   \n",
              "\n",
              "                                               genre   type episodes  rating  \\\n",
              "0               Drama, Romance, School, Supernatural  Movie        1    9.37   \n",
              "1  Action, Adventure, Drama, Fantasy, Magic, Mili...     TV       64    9.26   \n",
              "2  Action, Comedy, Historical, Parody, Samurai, S...     TV       51    9.25   \n",
              "3                                   Sci-Fi, Thriller     TV       24    9.17   \n",
              "4  Action, Comedy, Historical, Parody, Samurai, S...     TV       51    9.16   \n",
              "\n",
              "   members  \n",
              "0   200630  \n",
              "1   793665  \n",
              "2   114262  \n",
              "3   673572  \n",
              "4   151266  "
            ],
            "text/html": [
              "\n",
              "  <div id=\"df-b4900fee-41c7-42b2-af03-f9c828ce56cc\" class=\"colab-df-container\">\n",
              "    <div>\n",
              "<style scoped>\n",
              "    .dataframe tbody tr th:only-of-type {\n",
              "        vertical-align: middle;\n",
              "    }\n",
              "\n",
              "    .dataframe tbody tr th {\n",
              "        vertical-align: top;\n",
              "    }\n",
              "\n",
              "    .dataframe thead th {\n",
              "        text-align: right;\n",
              "    }\n",
              "</style>\n",
              "<table border=\"1\" class=\"dataframe\">\n",
              "  <thead>\n",
              "    <tr style=\"text-align: right;\">\n",
              "      <th></th>\n",
              "      <th>anime_id</th>\n",
              "      <th>name</th>\n",
              "      <th>genre</th>\n",
              "      <th>type</th>\n",
              "      <th>episodes</th>\n",
              "      <th>rating</th>\n",
              "      <th>members</th>\n",
              "    </tr>\n",
              "  </thead>\n",
              "  <tbody>\n",
              "    <tr>\n",
              "      <th>0</th>\n",
              "      <td>32281</td>\n",
              "      <td>Kimi no Na wa.</td>\n",
              "      <td>Drama, Romance, School, Supernatural</td>\n",
              "      <td>Movie</td>\n",
              "      <td>1</td>\n",
              "      <td>9.37</td>\n",
              "      <td>200630</td>\n",
              "    </tr>\n",
              "    <tr>\n",
              "      <th>1</th>\n",
              "      <td>5114</td>\n",
              "      <td>Fullmetal Alchemist: Brotherhood</td>\n",
              "      <td>Action, Adventure, Drama, Fantasy, Magic, Mili...</td>\n",
              "      <td>TV</td>\n",
              "      <td>64</td>\n",
              "      <td>9.26</td>\n",
              "      <td>793665</td>\n",
              "    </tr>\n",
              "    <tr>\n",
              "      <th>2</th>\n",
              "      <td>28977</td>\n",
              "      <td>Gintama°</td>\n",
              "      <td>Action, Comedy, Historical, Parody, Samurai, S...</td>\n",
              "      <td>TV</td>\n",
              "      <td>51</td>\n",
              "      <td>9.25</td>\n",
              "      <td>114262</td>\n",
              "    </tr>\n",
              "    <tr>\n",
              "      <th>3</th>\n",
              "      <td>9253</td>\n",
              "      <td>Steins;Gate</td>\n",
              "      <td>Sci-Fi, Thriller</td>\n",
              "      <td>TV</td>\n",
              "      <td>24</td>\n",
              "      <td>9.17</td>\n",
              "      <td>673572</td>\n",
              "    </tr>\n",
              "    <tr>\n",
              "      <th>4</th>\n",
              "      <td>9969</td>\n",
              "      <td>Gintama&amp;#039;</td>\n",
              "      <td>Action, Comedy, Historical, Parody, Samurai, S...</td>\n",
              "      <td>TV</td>\n",
              "      <td>51</td>\n",
              "      <td>9.16</td>\n",
              "      <td>151266</td>\n",
              "    </tr>\n",
              "  </tbody>\n",
              "</table>\n",
              "</div>\n",
              "    <div class=\"colab-df-buttons\">\n",
              "\n",
              "  <div class=\"colab-df-container\">\n",
              "    <button class=\"colab-df-convert\" onclick=\"convertToInteractive('df-b4900fee-41c7-42b2-af03-f9c828ce56cc')\"\n",
              "            title=\"Convert this dataframe to an interactive table.\"\n",
              "            style=\"display:none;\">\n",
              "\n",
              "  <svg xmlns=\"http://www.w3.org/2000/svg\" height=\"24px\" viewBox=\"0 -960 960 960\">\n",
              "    <path d=\"M120-120v-720h720v720H120Zm60-500h600v-160H180v160Zm220 220h160v-160H400v160Zm0 220h160v-160H400v160ZM180-400h160v-160H180v160Zm440 0h160v-160H620v160ZM180-180h160v-160H180v160Zm440 0h160v-160H620v160Z\"/>\n",
              "  </svg>\n",
              "    </button>\n",
              "\n",
              "  <style>\n",
              "    .colab-df-container {\n",
              "      display:flex;\n",
              "      gap: 12px;\n",
              "    }\n",
              "\n",
              "    .colab-df-convert {\n",
              "      background-color: #E8F0FE;\n",
              "      border: none;\n",
              "      border-radius: 50%;\n",
              "      cursor: pointer;\n",
              "      display: none;\n",
              "      fill: #1967D2;\n",
              "      height: 32px;\n",
              "      padding: 0 0 0 0;\n",
              "      width: 32px;\n",
              "    }\n",
              "\n",
              "    .colab-df-convert:hover {\n",
              "      background-color: #E2EBFA;\n",
              "      box-shadow: 0px 1px 2px rgba(60, 64, 67, 0.3), 0px 1px 3px 1px rgba(60, 64, 67, 0.15);\n",
              "      fill: #174EA6;\n",
              "    }\n",
              "\n",
              "    .colab-df-buttons div {\n",
              "      margin-bottom: 4px;\n",
              "    }\n",
              "\n",
              "    [theme=dark] .colab-df-convert {\n",
              "      background-color: #3B4455;\n",
              "      fill: #D2E3FC;\n",
              "    }\n",
              "\n",
              "    [theme=dark] .colab-df-convert:hover {\n",
              "      background-color: #434B5C;\n",
              "      box-shadow: 0px 1px 3px 1px rgba(0, 0, 0, 0.15);\n",
              "      filter: drop-shadow(0px 1px 2px rgba(0, 0, 0, 0.3));\n",
              "      fill: #FFFFFF;\n",
              "    }\n",
              "  </style>\n",
              "\n",
              "    <script>\n",
              "      const buttonEl =\n",
              "        document.querySelector('#df-b4900fee-41c7-42b2-af03-f9c828ce56cc button.colab-df-convert');\n",
              "      buttonEl.style.display =\n",
              "        google.colab.kernel.accessAllowed ? 'block' : 'none';\n",
              "\n",
              "      async function convertToInteractive(key) {\n",
              "        const element = document.querySelector('#df-b4900fee-41c7-42b2-af03-f9c828ce56cc');\n",
              "        const dataTable =\n",
              "          await google.colab.kernel.invokeFunction('convertToInteractive',\n",
              "                                                    [key], {});\n",
              "        if (!dataTable) return;\n",
              "\n",
              "        const docLinkHtml = 'Like what you see? Visit the ' +\n",
              "          '<a target=\"_blank\" href=https://colab.research.google.com/notebooks/data_table.ipynb>data table notebook</a>'\n",
              "          + ' to learn more about interactive tables.';\n",
              "        element.innerHTML = '';\n",
              "        dataTable['output_type'] = 'display_data';\n",
              "        await google.colab.output.renderOutput(dataTable, element);\n",
              "        const docLink = document.createElement('div');\n",
              "        docLink.innerHTML = docLinkHtml;\n",
              "        element.appendChild(docLink);\n",
              "      }\n",
              "    </script>\n",
              "  </div>\n",
              "\n",
              "\n",
              "<div id=\"df-338b1ca9-2686-45ad-a2ef-2c0c22d8f255\">\n",
              "  <button class=\"colab-df-quickchart\" onclick=\"quickchart('df-338b1ca9-2686-45ad-a2ef-2c0c22d8f255')\"\n",
              "            title=\"Suggest charts\"\n",
              "            style=\"display:none;\">\n",
              "\n",
              "<svg xmlns=\"http://www.w3.org/2000/svg\" height=\"24px\"viewBox=\"0 0 24 24\"\n",
              "     width=\"24px\">\n",
              "    <g>\n",
              "        <path d=\"M19 3H5c-1.1 0-2 .9-2 2v14c0 1.1.9 2 2 2h14c1.1 0 2-.9 2-2V5c0-1.1-.9-2-2-2zM9 17H7v-7h2v7zm4 0h-2V7h2v10zm4 0h-2v-4h2v4z\"/>\n",
              "    </g>\n",
              "</svg>\n",
              "  </button>\n",
              "\n",
              "<style>\n",
              "  .colab-df-quickchart {\n",
              "      --bg-color: #E8F0FE;\n",
              "      --fill-color: #1967D2;\n",
              "      --hover-bg-color: #E2EBFA;\n",
              "      --hover-fill-color: #174EA6;\n",
              "      --disabled-fill-color: #AAA;\n",
              "      --disabled-bg-color: #DDD;\n",
              "  }\n",
              "\n",
              "  [theme=dark] .colab-df-quickchart {\n",
              "      --bg-color: #3B4455;\n",
              "      --fill-color: #D2E3FC;\n",
              "      --hover-bg-color: #434B5C;\n",
              "      --hover-fill-color: #FFFFFF;\n",
              "      --disabled-bg-color: #3B4455;\n",
              "      --disabled-fill-color: #666;\n",
              "  }\n",
              "\n",
              "  .colab-df-quickchart {\n",
              "    background-color: var(--bg-color);\n",
              "    border: none;\n",
              "    border-radius: 50%;\n",
              "    cursor: pointer;\n",
              "    display: none;\n",
              "    fill: var(--fill-color);\n",
              "    height: 32px;\n",
              "    padding: 0;\n",
              "    width: 32px;\n",
              "  }\n",
              "\n",
              "  .colab-df-quickchart:hover {\n",
              "    background-color: var(--hover-bg-color);\n",
              "    box-shadow: 0 1px 2px rgba(60, 64, 67, 0.3), 0 1px 3px 1px rgba(60, 64, 67, 0.15);\n",
              "    fill: var(--button-hover-fill-color);\n",
              "  }\n",
              "\n",
              "  .colab-df-quickchart-complete:disabled,\n",
              "  .colab-df-quickchart-complete:disabled:hover {\n",
              "    background-color: var(--disabled-bg-color);\n",
              "    fill: var(--disabled-fill-color);\n",
              "    box-shadow: none;\n",
              "  }\n",
              "\n",
              "  .colab-df-spinner {\n",
              "    border: 2px solid var(--fill-color);\n",
              "    border-color: transparent;\n",
              "    border-bottom-color: var(--fill-color);\n",
              "    animation:\n",
              "      spin 1s steps(1) infinite;\n",
              "  }\n",
              "\n",
              "  @keyframes spin {\n",
              "    0% {\n",
              "      border-color: transparent;\n",
              "      border-bottom-color: var(--fill-color);\n",
              "      border-left-color: var(--fill-color);\n",
              "    }\n",
              "    20% {\n",
              "      border-color: transparent;\n",
              "      border-left-color: var(--fill-color);\n",
              "      border-top-color: var(--fill-color);\n",
              "    }\n",
              "    30% {\n",
              "      border-color: transparent;\n",
              "      border-left-color: var(--fill-color);\n",
              "      border-top-color: var(--fill-color);\n",
              "      border-right-color: var(--fill-color);\n",
              "    }\n",
              "    40% {\n",
              "      border-color: transparent;\n",
              "      border-right-color: var(--fill-color);\n",
              "      border-top-color: var(--fill-color);\n",
              "    }\n",
              "    60% {\n",
              "      border-color: transparent;\n",
              "      border-right-color: var(--fill-color);\n",
              "    }\n",
              "    80% {\n",
              "      border-color: transparent;\n",
              "      border-right-color: var(--fill-color);\n",
              "      border-bottom-color: var(--fill-color);\n",
              "    }\n",
              "    90% {\n",
              "      border-color: transparent;\n",
              "      border-bottom-color: var(--fill-color);\n",
              "    }\n",
              "  }\n",
              "</style>\n",
              "\n",
              "  <script>\n",
              "    async function quickchart(key) {\n",
              "      const quickchartButtonEl =\n",
              "        document.querySelector('#' + key + ' button');\n",
              "      quickchartButtonEl.disabled = true;  // To prevent multiple clicks.\n",
              "      quickchartButtonEl.classList.add('colab-df-spinner');\n",
              "      try {\n",
              "        const charts = await google.colab.kernel.invokeFunction(\n",
              "            'suggestCharts', [key], {});\n",
              "      } catch (error) {\n",
              "        console.error('Error during call to suggestCharts:', error);\n",
              "      }\n",
              "      quickchartButtonEl.classList.remove('colab-df-spinner');\n",
              "      quickchartButtonEl.classList.add('colab-df-quickchart-complete');\n",
              "    }\n",
              "    (() => {\n",
              "      let quickchartButtonEl =\n",
              "        document.querySelector('#df-338b1ca9-2686-45ad-a2ef-2c0c22d8f255 button');\n",
              "      quickchartButtonEl.style.display =\n",
              "        google.colab.kernel.accessAllowed ? 'block' : 'none';\n",
              "    })();\n",
              "  </script>\n",
              "</div>\n",
              "\n",
              "    </div>\n",
              "  </div>\n"
            ],
            "application/vnd.google.colaboratory.intrinsic+json": {
              "type": "dataframe",
              "variable_name": "anime_df",
              "summary": "{\n  \"name\": \"anime_df\",\n  \"rows\": 12294,\n  \"fields\": [\n    {\n      \"column\": \"anime_id\",\n      \"properties\": {\n        \"dtype\": \"number\",\n        \"std\": 11455,\n        \"min\": 1,\n        \"max\": 34527,\n        \"num_unique_values\": 12294,\n        \"samples\": [\n          17209,\n          173,\n          3616\n        ],\n        \"semantic_type\": \"\",\n        \"description\": \"\"\n      }\n    },\n    {\n      \"column\": \"name\",\n      \"properties\": {\n        \"dtype\": \"string\",\n        \"num_unique_values\": 12292,\n        \"samples\": [\n          \"Nils no Fushigi na Tabi (Movie)\",\n          \"Tactics\",\n          \"Kamen no Maid Guy\"\n        ],\n        \"semantic_type\": \"\",\n        \"description\": \"\"\n      }\n    },\n    {\n      \"column\": \"genre\",\n      \"properties\": {\n        \"dtype\": \"category\",\n        \"num_unique_values\": 3264,\n        \"samples\": [\n          \"Horror, Supernatural\",\n          \"Action, Adventure, Comedy, Demons, Fantasy, Magic, Romance, Shounen, Supernatural\",\n          \"Action, Comedy, Harem, Parody, Romance\"\n        ],\n        \"semantic_type\": \"\",\n        \"description\": \"\"\n      }\n    },\n    {\n      \"column\": \"type\",\n      \"properties\": {\n        \"dtype\": \"category\",\n        \"num_unique_values\": 6,\n        \"samples\": [\n          \"Movie\",\n          \"TV\",\n          \"ONA\"\n        ],\n        \"semantic_type\": \"\",\n        \"description\": \"\"\n      }\n    },\n    {\n      \"column\": \"episodes\",\n      \"properties\": {\n        \"dtype\": \"category\",\n        \"num_unique_values\": 187,\n        \"samples\": [\n          \"141\",\n          \"54\",\n          \"52\"\n        ],\n        \"semantic_type\": \"\",\n        \"description\": \"\"\n      }\n    },\n    {\n      \"column\": \"rating\",\n      \"properties\": {\n        \"dtype\": \"number\",\n        \"std\": 1.0267463068980598,\n        \"min\": 1.67,\n        \"max\": 10.0,\n        \"num_unique_values\": 598,\n        \"samples\": [\n          7.87,\n          6.11,\n          4.1\n        ],\n        \"semantic_type\": \"\",\n        \"description\": \"\"\n      }\n    },\n    {\n      \"column\": \"members\",\n      \"properties\": {\n        \"dtype\": \"number\",\n        \"std\": 54820,\n        \"min\": 5,\n        \"max\": 1013917,\n        \"num_unique_values\": 6706,\n        \"samples\": [\n          170754,\n          1515,\n          66376\n        ],\n        \"semantic_type\": \"\",\n        \"description\": \"\"\n      }\n    }\n  ]\n}"
            }
          },
          "metadata": {},
          "execution_count": 4
        }
      ]
    },
    {
      "cell_type": "code",
      "source": [
        "anime_df.info()"
      ],
      "metadata": {
        "colab": {
          "base_uri": "https://localhost:8080/"
        },
        "id": "9oOM0YIxLRuT",
        "outputId": "762d932f-ff0c-4d10-d076-cdbc01fbdad7"
      },
      "execution_count": 5,
      "outputs": [
        {
          "output_type": "stream",
          "name": "stdout",
          "text": [
            "<class 'pandas.core.frame.DataFrame'>\n",
            "RangeIndex: 12294 entries, 0 to 12293\n",
            "Data columns (total 7 columns):\n",
            " #   Column    Non-Null Count  Dtype  \n",
            "---  ------    --------------  -----  \n",
            " 0   anime_id  12294 non-null  int64  \n",
            " 1   name      12294 non-null  object \n",
            " 2   genre     12232 non-null  object \n",
            " 3   type      12269 non-null  object \n",
            " 4   episodes  12294 non-null  object \n",
            " 5   rating    12064 non-null  float64\n",
            " 6   members   12294 non-null  int64  \n",
            "dtypes: float64(1), int64(2), object(4)\n",
            "memory usage: 672.5+ KB\n"
          ]
        }
      ]
    },
    {
      "cell_type": "code",
      "source": [
        "anime_df.describe(include=\"all\")"
      ],
      "metadata": {
        "colab": {
          "base_uri": "https://localhost:8080/",
          "height": 394
        },
        "id": "uoxdYg_FLasn",
        "outputId": "34193059-6d21-4432-9572-7350e0648331"
      },
      "execution_count": 6,
      "outputs": [
        {
          "output_type": "execute_result",
          "data": {
            "text/plain": [
              "            anime_id              name   genre   type episodes        rating  \\\n",
              "count   12294.000000             12294   12232  12269    12294  12064.000000   \n",
              "unique           NaN             12292    3264      6      187           NaN   \n",
              "top              NaN  Saru Kani Gassen  Hentai     TV        1           NaN   \n",
              "freq             NaN                 2     823   3787     5677           NaN   \n",
              "mean    14058.221653               NaN     NaN    NaN      NaN      6.473902   \n",
              "std     11455.294701               NaN     NaN    NaN      NaN      1.026746   \n",
              "min         1.000000               NaN     NaN    NaN      NaN      1.670000   \n",
              "25%      3484.250000               NaN     NaN    NaN      NaN      5.880000   \n",
              "50%     10260.500000               NaN     NaN    NaN      NaN      6.570000   \n",
              "75%     24794.500000               NaN     NaN    NaN      NaN      7.180000   \n",
              "max     34527.000000               NaN     NaN    NaN      NaN     10.000000   \n",
              "\n",
              "             members  \n",
              "count   1.229400e+04  \n",
              "unique           NaN  \n",
              "top              NaN  \n",
              "freq             NaN  \n",
              "mean    1.807134e+04  \n",
              "std     5.482068e+04  \n",
              "min     5.000000e+00  \n",
              "25%     2.250000e+02  \n",
              "50%     1.550000e+03  \n",
              "75%     9.437000e+03  \n",
              "max     1.013917e+06  "
            ],
            "text/html": [
              "\n",
              "  <div id=\"df-106c7578-11bc-4f11-9b45-06eaa48e84dc\" class=\"colab-df-container\">\n",
              "    <div>\n",
              "<style scoped>\n",
              "    .dataframe tbody tr th:only-of-type {\n",
              "        vertical-align: middle;\n",
              "    }\n",
              "\n",
              "    .dataframe tbody tr th {\n",
              "        vertical-align: top;\n",
              "    }\n",
              "\n",
              "    .dataframe thead th {\n",
              "        text-align: right;\n",
              "    }\n",
              "</style>\n",
              "<table border=\"1\" class=\"dataframe\">\n",
              "  <thead>\n",
              "    <tr style=\"text-align: right;\">\n",
              "      <th></th>\n",
              "      <th>anime_id</th>\n",
              "      <th>name</th>\n",
              "      <th>genre</th>\n",
              "      <th>type</th>\n",
              "      <th>episodes</th>\n",
              "      <th>rating</th>\n",
              "      <th>members</th>\n",
              "    </tr>\n",
              "  </thead>\n",
              "  <tbody>\n",
              "    <tr>\n",
              "      <th>count</th>\n",
              "      <td>12294.000000</td>\n",
              "      <td>12294</td>\n",
              "      <td>12232</td>\n",
              "      <td>12269</td>\n",
              "      <td>12294</td>\n",
              "      <td>12064.000000</td>\n",
              "      <td>1.229400e+04</td>\n",
              "    </tr>\n",
              "    <tr>\n",
              "      <th>unique</th>\n",
              "      <td>NaN</td>\n",
              "      <td>12292</td>\n",
              "      <td>3264</td>\n",
              "      <td>6</td>\n",
              "      <td>187</td>\n",
              "      <td>NaN</td>\n",
              "      <td>NaN</td>\n",
              "    </tr>\n",
              "    <tr>\n",
              "      <th>top</th>\n",
              "      <td>NaN</td>\n",
              "      <td>Saru Kani Gassen</td>\n",
              "      <td>Hentai</td>\n",
              "      <td>TV</td>\n",
              "      <td>1</td>\n",
              "      <td>NaN</td>\n",
              "      <td>NaN</td>\n",
              "    </tr>\n",
              "    <tr>\n",
              "      <th>freq</th>\n",
              "      <td>NaN</td>\n",
              "      <td>2</td>\n",
              "      <td>823</td>\n",
              "      <td>3787</td>\n",
              "      <td>5677</td>\n",
              "      <td>NaN</td>\n",
              "      <td>NaN</td>\n",
              "    </tr>\n",
              "    <tr>\n",
              "      <th>mean</th>\n",
              "      <td>14058.221653</td>\n",
              "      <td>NaN</td>\n",
              "      <td>NaN</td>\n",
              "      <td>NaN</td>\n",
              "      <td>NaN</td>\n",
              "      <td>6.473902</td>\n",
              "      <td>1.807134e+04</td>\n",
              "    </tr>\n",
              "    <tr>\n",
              "      <th>std</th>\n",
              "      <td>11455.294701</td>\n",
              "      <td>NaN</td>\n",
              "      <td>NaN</td>\n",
              "      <td>NaN</td>\n",
              "      <td>NaN</td>\n",
              "      <td>1.026746</td>\n",
              "      <td>5.482068e+04</td>\n",
              "    </tr>\n",
              "    <tr>\n",
              "      <th>min</th>\n",
              "      <td>1.000000</td>\n",
              "      <td>NaN</td>\n",
              "      <td>NaN</td>\n",
              "      <td>NaN</td>\n",
              "      <td>NaN</td>\n",
              "      <td>1.670000</td>\n",
              "      <td>5.000000e+00</td>\n",
              "    </tr>\n",
              "    <tr>\n",
              "      <th>25%</th>\n",
              "      <td>3484.250000</td>\n",
              "      <td>NaN</td>\n",
              "      <td>NaN</td>\n",
              "      <td>NaN</td>\n",
              "      <td>NaN</td>\n",
              "      <td>5.880000</td>\n",
              "      <td>2.250000e+02</td>\n",
              "    </tr>\n",
              "    <tr>\n",
              "      <th>50%</th>\n",
              "      <td>10260.500000</td>\n",
              "      <td>NaN</td>\n",
              "      <td>NaN</td>\n",
              "      <td>NaN</td>\n",
              "      <td>NaN</td>\n",
              "      <td>6.570000</td>\n",
              "      <td>1.550000e+03</td>\n",
              "    </tr>\n",
              "    <tr>\n",
              "      <th>75%</th>\n",
              "      <td>24794.500000</td>\n",
              "      <td>NaN</td>\n",
              "      <td>NaN</td>\n",
              "      <td>NaN</td>\n",
              "      <td>NaN</td>\n",
              "      <td>7.180000</td>\n",
              "      <td>9.437000e+03</td>\n",
              "    </tr>\n",
              "    <tr>\n",
              "      <th>max</th>\n",
              "      <td>34527.000000</td>\n",
              "      <td>NaN</td>\n",
              "      <td>NaN</td>\n",
              "      <td>NaN</td>\n",
              "      <td>NaN</td>\n",
              "      <td>10.000000</td>\n",
              "      <td>1.013917e+06</td>\n",
              "    </tr>\n",
              "  </tbody>\n",
              "</table>\n",
              "</div>\n",
              "    <div class=\"colab-df-buttons\">\n",
              "\n",
              "  <div class=\"colab-df-container\">\n",
              "    <button class=\"colab-df-convert\" onclick=\"convertToInteractive('df-106c7578-11bc-4f11-9b45-06eaa48e84dc')\"\n",
              "            title=\"Convert this dataframe to an interactive table.\"\n",
              "            style=\"display:none;\">\n",
              "\n",
              "  <svg xmlns=\"http://www.w3.org/2000/svg\" height=\"24px\" viewBox=\"0 -960 960 960\">\n",
              "    <path d=\"M120-120v-720h720v720H120Zm60-500h600v-160H180v160Zm220 220h160v-160H400v160Zm0 220h160v-160H400v160ZM180-400h160v-160H180v160Zm440 0h160v-160H620v160ZM180-180h160v-160H180v160Zm440 0h160v-160H620v160Z\"/>\n",
              "  </svg>\n",
              "    </button>\n",
              "\n",
              "  <style>\n",
              "    .colab-df-container {\n",
              "      display:flex;\n",
              "      gap: 12px;\n",
              "    }\n",
              "\n",
              "    .colab-df-convert {\n",
              "      background-color: #E8F0FE;\n",
              "      border: none;\n",
              "      border-radius: 50%;\n",
              "      cursor: pointer;\n",
              "      display: none;\n",
              "      fill: #1967D2;\n",
              "      height: 32px;\n",
              "      padding: 0 0 0 0;\n",
              "      width: 32px;\n",
              "    }\n",
              "\n",
              "    .colab-df-convert:hover {\n",
              "      background-color: #E2EBFA;\n",
              "      box-shadow: 0px 1px 2px rgba(60, 64, 67, 0.3), 0px 1px 3px 1px rgba(60, 64, 67, 0.15);\n",
              "      fill: #174EA6;\n",
              "    }\n",
              "\n",
              "    .colab-df-buttons div {\n",
              "      margin-bottom: 4px;\n",
              "    }\n",
              "\n",
              "    [theme=dark] .colab-df-convert {\n",
              "      background-color: #3B4455;\n",
              "      fill: #D2E3FC;\n",
              "    }\n",
              "\n",
              "    [theme=dark] .colab-df-convert:hover {\n",
              "      background-color: #434B5C;\n",
              "      box-shadow: 0px 1px 3px 1px rgba(0, 0, 0, 0.15);\n",
              "      filter: drop-shadow(0px 1px 2px rgba(0, 0, 0, 0.3));\n",
              "      fill: #FFFFFF;\n",
              "    }\n",
              "  </style>\n",
              "\n",
              "    <script>\n",
              "      const buttonEl =\n",
              "        document.querySelector('#df-106c7578-11bc-4f11-9b45-06eaa48e84dc button.colab-df-convert');\n",
              "      buttonEl.style.display =\n",
              "        google.colab.kernel.accessAllowed ? 'block' : 'none';\n",
              "\n",
              "      async function convertToInteractive(key) {\n",
              "        const element = document.querySelector('#df-106c7578-11bc-4f11-9b45-06eaa48e84dc');\n",
              "        const dataTable =\n",
              "          await google.colab.kernel.invokeFunction('convertToInteractive',\n",
              "                                                    [key], {});\n",
              "        if (!dataTable) return;\n",
              "\n",
              "        const docLinkHtml = 'Like what you see? Visit the ' +\n",
              "          '<a target=\"_blank\" href=https://colab.research.google.com/notebooks/data_table.ipynb>data table notebook</a>'\n",
              "          + ' to learn more about interactive tables.';\n",
              "        element.innerHTML = '';\n",
              "        dataTable['output_type'] = 'display_data';\n",
              "        await google.colab.output.renderOutput(dataTable, element);\n",
              "        const docLink = document.createElement('div');\n",
              "        docLink.innerHTML = docLinkHtml;\n",
              "        element.appendChild(docLink);\n",
              "      }\n",
              "    </script>\n",
              "  </div>\n",
              "\n",
              "\n",
              "<div id=\"df-c911d786-d697-4923-8120-ef1c47f6f016\">\n",
              "  <button class=\"colab-df-quickchart\" onclick=\"quickchart('df-c911d786-d697-4923-8120-ef1c47f6f016')\"\n",
              "            title=\"Suggest charts\"\n",
              "            style=\"display:none;\">\n",
              "\n",
              "<svg xmlns=\"http://www.w3.org/2000/svg\" height=\"24px\"viewBox=\"0 0 24 24\"\n",
              "     width=\"24px\">\n",
              "    <g>\n",
              "        <path d=\"M19 3H5c-1.1 0-2 .9-2 2v14c0 1.1.9 2 2 2h14c1.1 0 2-.9 2-2V5c0-1.1-.9-2-2-2zM9 17H7v-7h2v7zm4 0h-2V7h2v10zm4 0h-2v-4h2v4z\"/>\n",
              "    </g>\n",
              "</svg>\n",
              "  </button>\n",
              "\n",
              "<style>\n",
              "  .colab-df-quickchart {\n",
              "      --bg-color: #E8F0FE;\n",
              "      --fill-color: #1967D2;\n",
              "      --hover-bg-color: #E2EBFA;\n",
              "      --hover-fill-color: #174EA6;\n",
              "      --disabled-fill-color: #AAA;\n",
              "      --disabled-bg-color: #DDD;\n",
              "  }\n",
              "\n",
              "  [theme=dark] .colab-df-quickchart {\n",
              "      --bg-color: #3B4455;\n",
              "      --fill-color: #D2E3FC;\n",
              "      --hover-bg-color: #434B5C;\n",
              "      --hover-fill-color: #FFFFFF;\n",
              "      --disabled-bg-color: #3B4455;\n",
              "      --disabled-fill-color: #666;\n",
              "  }\n",
              "\n",
              "  .colab-df-quickchart {\n",
              "    background-color: var(--bg-color);\n",
              "    border: none;\n",
              "    border-radius: 50%;\n",
              "    cursor: pointer;\n",
              "    display: none;\n",
              "    fill: var(--fill-color);\n",
              "    height: 32px;\n",
              "    padding: 0;\n",
              "    width: 32px;\n",
              "  }\n",
              "\n",
              "  .colab-df-quickchart:hover {\n",
              "    background-color: var(--hover-bg-color);\n",
              "    box-shadow: 0 1px 2px rgba(60, 64, 67, 0.3), 0 1px 3px 1px rgba(60, 64, 67, 0.15);\n",
              "    fill: var(--button-hover-fill-color);\n",
              "  }\n",
              "\n",
              "  .colab-df-quickchart-complete:disabled,\n",
              "  .colab-df-quickchart-complete:disabled:hover {\n",
              "    background-color: var(--disabled-bg-color);\n",
              "    fill: var(--disabled-fill-color);\n",
              "    box-shadow: none;\n",
              "  }\n",
              "\n",
              "  .colab-df-spinner {\n",
              "    border: 2px solid var(--fill-color);\n",
              "    border-color: transparent;\n",
              "    border-bottom-color: var(--fill-color);\n",
              "    animation:\n",
              "      spin 1s steps(1) infinite;\n",
              "  }\n",
              "\n",
              "  @keyframes spin {\n",
              "    0% {\n",
              "      border-color: transparent;\n",
              "      border-bottom-color: var(--fill-color);\n",
              "      border-left-color: var(--fill-color);\n",
              "    }\n",
              "    20% {\n",
              "      border-color: transparent;\n",
              "      border-left-color: var(--fill-color);\n",
              "      border-top-color: var(--fill-color);\n",
              "    }\n",
              "    30% {\n",
              "      border-color: transparent;\n",
              "      border-left-color: var(--fill-color);\n",
              "      border-top-color: var(--fill-color);\n",
              "      border-right-color: var(--fill-color);\n",
              "    }\n",
              "    40% {\n",
              "      border-color: transparent;\n",
              "      border-right-color: var(--fill-color);\n",
              "      border-top-color: var(--fill-color);\n",
              "    }\n",
              "    60% {\n",
              "      border-color: transparent;\n",
              "      border-right-color: var(--fill-color);\n",
              "    }\n",
              "    80% {\n",
              "      border-color: transparent;\n",
              "      border-right-color: var(--fill-color);\n",
              "      border-bottom-color: var(--fill-color);\n",
              "    }\n",
              "    90% {\n",
              "      border-color: transparent;\n",
              "      border-bottom-color: var(--fill-color);\n",
              "    }\n",
              "  }\n",
              "</style>\n",
              "\n",
              "  <script>\n",
              "    async function quickchart(key) {\n",
              "      const quickchartButtonEl =\n",
              "        document.querySelector('#' + key + ' button');\n",
              "      quickchartButtonEl.disabled = true;  // To prevent multiple clicks.\n",
              "      quickchartButtonEl.classList.add('colab-df-spinner');\n",
              "      try {\n",
              "        const charts = await google.colab.kernel.invokeFunction(\n",
              "            'suggestCharts', [key], {});\n",
              "      } catch (error) {\n",
              "        console.error('Error during call to suggestCharts:', error);\n",
              "      }\n",
              "      quickchartButtonEl.classList.remove('colab-df-spinner');\n",
              "      quickchartButtonEl.classList.add('colab-df-quickchart-complete');\n",
              "    }\n",
              "    (() => {\n",
              "      let quickchartButtonEl =\n",
              "        document.querySelector('#df-c911d786-d697-4923-8120-ef1c47f6f016 button');\n",
              "      quickchartButtonEl.style.display =\n",
              "        google.colab.kernel.accessAllowed ? 'block' : 'none';\n",
              "    })();\n",
              "  </script>\n",
              "</div>\n",
              "\n",
              "    </div>\n",
              "  </div>\n"
            ],
            "application/vnd.google.colaboratory.intrinsic+json": {
              "type": "dataframe",
              "summary": "{\n  \"name\": \"anime_df\",\n  \"rows\": 11,\n  \"fields\": [\n    {\n      \"column\": \"anime_id\",\n      \"properties\": {\n        \"dtype\": \"number\",\n        \"std\": 11133.263547568791,\n        \"min\": 1.0,\n        \"max\": 34527.0,\n        \"num_unique_values\": 8,\n        \"samples\": [\n          14058.221652838783,\n          10260.5,\n          12294.0\n        ],\n        \"semantic_type\": \"\",\n        \"description\": \"\"\n      }\n    },\n    {\n      \"column\": \"name\",\n      \"properties\": {\n        \"dtype\": \"category\",\n        \"num_unique_values\": 4,\n        \"samples\": [\n          12292,\n          \"2\",\n          \"12294\"\n        ],\n        \"semantic_type\": \"\",\n        \"description\": \"\"\n      }\n    },\n    {\n      \"column\": \"genre\",\n      \"properties\": {\n        \"dtype\": \"category\",\n        \"num_unique_values\": 4,\n        \"samples\": [\n          3264,\n          \"823\",\n          \"12232\"\n        ],\n        \"semantic_type\": \"\",\n        \"description\": \"\"\n      }\n    },\n    {\n      \"column\": \"type\",\n      \"properties\": {\n        \"dtype\": \"category\",\n        \"num_unique_values\": 4,\n        \"samples\": [\n          6,\n          \"3787\",\n          \"12269\"\n        ],\n        \"semantic_type\": \"\",\n        \"description\": \"\"\n      }\n    },\n    {\n      \"column\": \"episodes\",\n      \"properties\": {\n        \"dtype\": \"category\",\n        \"num_unique_values\": 4,\n        \"samples\": [\n          187,\n          \"5677\",\n          \"12294\"\n        ],\n        \"semantic_type\": \"\",\n        \"description\": \"\"\n      }\n    },\n    {\n      \"column\": \"rating\",\n      \"properties\": {\n        \"dtype\": \"number\",\n        \"std\": 4263.309380308144,\n        \"min\": 1.0267463068980598,\n        \"max\": 12064.0,\n        \"num_unique_values\": 8,\n        \"samples\": [\n          6.473901690981432,\n          6.57,\n          12064.0\n        ],\n        \"semantic_type\": \"\",\n        \"description\": \"\"\n      }\n    },\n    {\n      \"column\": \"members\",\n      \"properties\": {\n        \"dtype\": \"number\",\n        \"std\": 354058.2878098787,\n        \"min\": 5.0,\n        \"max\": 1013917.0,\n        \"num_unique_values\": 8,\n        \"samples\": [\n          18071.33886448674,\n          1550.0,\n          12294.0\n        ],\n        \"semantic_type\": \"\",\n        \"description\": \"\"\n      }\n    }\n  ]\n}"
            }
          },
          "metadata": {},
          "execution_count": 6
        }
      ]
    },
    {
      "cell_type": "code",
      "source": [
        "# Memeriksa jumlah nilai yang hilang di setiap kolom\n",
        "missing_values = anime_df.isnull().sum()\n",
        "missing_values[missing_values > 0]"
      ],
      "metadata": {
        "colab": {
          "base_uri": "https://localhost:8080/",
          "height": 178
        },
        "id": "_lL_fU06MOmT",
        "outputId": "d05a91f8-cdee-44e7-d2a0-6bf1b49fb10e"
      },
      "execution_count": 7,
      "outputs": [
        {
          "output_type": "execute_result",
          "data": {
            "text/plain": [
              "genre      62\n",
              "type       25\n",
              "rating    230\n",
              "dtype: int64"
            ],
            "text/html": [
              "<div>\n",
              "<style scoped>\n",
              "    .dataframe tbody tr th:only-of-type {\n",
              "        vertical-align: middle;\n",
              "    }\n",
              "\n",
              "    .dataframe tbody tr th {\n",
              "        vertical-align: top;\n",
              "    }\n",
              "\n",
              "    .dataframe thead th {\n",
              "        text-align: right;\n",
              "    }\n",
              "</style>\n",
              "<table border=\"1\" class=\"dataframe\">\n",
              "  <thead>\n",
              "    <tr style=\"text-align: right;\">\n",
              "      <th></th>\n",
              "      <th>0</th>\n",
              "    </tr>\n",
              "  </thead>\n",
              "  <tbody>\n",
              "    <tr>\n",
              "      <th>genre</th>\n",
              "      <td>62</td>\n",
              "    </tr>\n",
              "    <tr>\n",
              "      <th>type</th>\n",
              "      <td>25</td>\n",
              "    </tr>\n",
              "    <tr>\n",
              "      <th>rating</th>\n",
              "      <td>230</td>\n",
              "    </tr>\n",
              "  </tbody>\n",
              "</table>\n",
              "</div><br><label><b>dtype:</b> int64</label>"
            ]
          },
          "metadata": {},
          "execution_count": 7
        }
      ]
    },
    {
      "cell_type": "code",
      "source": [
        "#Memerika nilai unknown pada kolom episode\n",
        "unknown_episodes = anime_df[anime_df['episodes'] == 'Unknown']\n",
        "print(unknown_episodes)"
      ],
      "metadata": {
        "colab": {
          "base_uri": "https://localhost:8080/"
        },
        "id": "8wwst9k-5ssN",
        "outputId": "bd2fbd96-9bb7-4484-bb95-4d9458588bd3"
      },
      "execution_count": 8,
      "outputs": [
        {
          "output_type": "stream",
          "name": "stdout",
          "text": [
            "       anime_id                                               name  \\\n",
            "74           21                                          One Piece   \n",
            "252         235                                    Detective Conan   \n",
            "615        1735                                 Naruto: Shippuuden   \n",
            "991         966                                   Crayon Shin-chan   \n",
            "1021      33157             Tanaka-kun wa Itsumo Kedaruge Specials   \n",
            "...         ...                                                ...   \n",
            "12265     34361                           Kyonyuu Reijou MC Gakuen   \n",
            "12274     34492  Nuki Doki! Tenshi to Akuma no Sakusei Battle -...   \n",
            "12280     34312                                       Saimin Class   \n",
            "12282     34388                    Shikkoku no Shaga The Animation   \n",
            "12285     34399                                   Taimanin Asagi 3   \n",
            "\n",
            "                                                   genre     type episodes  \\\n",
            "74     Action, Adventure, Comedy, Drama, Fantasy, Sho...       TV  Unknown   \n",
            "252          Adventure, Comedy, Mystery, Police, Shounen       TV  Unknown   \n",
            "615    Action, Comedy, Martial Arts, Shounen, Super P...       TV  Unknown   \n",
            "991    Comedy, Ecchi, Kids, School, Shounen, Slice of...       TV  Unknown   \n",
            "1021                       Comedy, School, Slice of Life  Special  Unknown   \n",
            "...                                                  ...      ...      ...   \n",
            "12265                                             Hentai      OVA  Unknown   \n",
            "12274                                             Hentai      OVA  Unknown   \n",
            "12280                                             Hentai      OVA  Unknown   \n",
            "12282                                             Hentai      OVA  Unknown   \n",
            "12285                       Demons, Hentai, Supernatural      OVA  Unknown   \n",
            "\n",
            "       rating  members  \n",
            "74       8.58   504862  \n",
            "252      8.25   114702  \n",
            "615      7.94   533578  \n",
            "991      7.73    26267  \n",
            "1021     7.72     5400  \n",
            "...       ...      ...  \n",
            "12265     NaN      205  \n",
            "12274     NaN      392  \n",
            "12280     NaN      240  \n",
            "12282     NaN      195  \n",
            "12285     NaN      485  \n",
            "\n",
            "[340 rows x 7 columns]\n"
          ]
        }
      ]
    },
    {
      "cell_type": "code",
      "source": [
        "# Memeriksa jumlah duplikasi di setiap kolom\n",
        "print(\"Jumlah duplikasi: \", anime_df.duplicated().sum())"
      ],
      "metadata": {
        "colab": {
          "base_uri": "https://localhost:8080/"
        },
        "id": "pgi9KCAdqMC_",
        "outputId": "c6e82fb2-9973-49d1-d1f2-9f334e44d7a9"
      },
      "execution_count": 9,
      "outputs": [
        {
          "output_type": "stream",
          "name": "stdout",
          "text": [
            "Jumlah duplikasi:  0\n"
          ]
        }
      ]
    },
    {
      "cell_type": "code",
      "source": [
        "# Memeriksa nilai quartil pada kolom rating\n",
        "plt.figure(figsize=(8, 5))\n",
        "sns.boxplot(x=anime_df['rating'], color='skyblue')\n",
        "\n",
        "plt.title('Box Plot Rating Anime')\n",
        "plt.xlabel('Rating')\n",
        "\n",
        "plt.show()"
      ],
      "metadata": {
        "colab": {
          "base_uri": "https://localhost:8080/",
          "height": 487
        },
        "id": "-STyhhmGkcPM",
        "outputId": "662e6eca-db83-4153-c461-e66ba31157b6"
      },
      "execution_count": 10,
      "outputs": [
        {
          "output_type": "display_data",
          "data": {
            "text/plain": [
              "<Figure size 800x500 with 1 Axes>"
            ],
            "image/png": "[encoded data removed]"
          },
          "metadata": {}
        }
      ]
    },
    {
      "cell_type": "code",
      "source": [
        "# Memeriksa nilai quartil pada kolom members\n",
        "plt.figure(figsize=(8, 5))\n",
        "sns.boxplot(x=anime_df['members'], color='skyblue')\n",
        "\n",
        "# Tambahkan judul dan label\n",
        "plt.title('Box Plot Jumlah Members')\n",
        "plt.xlabel('Jumlah Members')\n",
        "\n",
        "plt.show()"
      ],
      "metadata": {
        "colab": {
          "base_uri": "https://localhost:8080/",
          "height": 487
        },
        "id": "ogqO5MBVo1Er",
        "outputId": "a773aa25-1947-4f5e-dbdc-b9ebeddeb031"
      },
      "execution_count": 11,
      "outputs": [
        {
          "output_type": "display_data",
          "data": {
            "text/plain": [
              "<Figure size 800x500 with 1 Axes>"
            ],
            "image/png": "[encoded data removed]"
          },
          "metadata": {}
        }
      ]
    },
    {
      "cell_type": "code",
      "source": [
        "# Matriks korelasi untuk variabel numerik\n",
        "numerical_cols = ['rating', 'members']\n",
        "plt.figure(figsize=(6, 4))\n",
        "sns.heatmap(anime_df[numerical_cols].corr(), annot=True, cmap=\"coolwarm\", fmt=\".2f\")\n",
        "plt.title(\"Matriks Korelasi\")\n",
        "plt.show()"
      ],
      "metadata": {
        "colab": {
          "base_uri": "https://localhost:8080/",
          "height": 391
        },
        "id": "hrAV0pyTtgVO",
        "outputId": "9787c247-df78-4c97-8879-f8f4669b5d72"
      },
      "execution_count": 12,
      "outputs": [
        {
          "output_type": "display_data",
          "data": {
            "text/plain": [
              "<Figure size 600x400 with 2 Axes>"
            ],
            "image/png": "[encoded data removed]"
          },
          "metadata": {}
        }
      ]
    },
    {
      "cell_type": "code",
      "source": [
        "# Diagram batang untuk variabel type\n",
        "plt.figure(figsize=(8, 5))\n",
        "sns.countplot(\n",
        "    data=anime_df,\n",
        "    x='type',\n",
        "    order=anime_df['type'].value_counts().index,\n",
        "    hue='type',\n",
        "    palette=\"viridis\",\n",
        "    legend=False\n",
        ")\n",
        "plt.xticks(rotation=45)\n",
        "plt.title(\"Distribusi Tipe Anime\")\n",
        "plt.show()"
      ],
      "metadata": {
        "colab": {
          "base_uri": "https://localhost:8080/",
          "height": 518
        },
        "id": "dyhUfJKLvfq1",
        "outputId": "155109ac-bd0e-4980-f5bc-29b0f4ce390e"
      },
      "execution_count": 13,
      "outputs": [
        {
          "output_type": "display_data",
          "data": {
            "text/plain": [
              "<Figure size 800x500 with 1 Axes>"
            ],
            "image/png": "[encoded data removed]"
          },
          "metadata": {}
        }
      ]
    },
    {
      "cell_type": "code",
      "source": [
        "# Memisahkan genre yang dipisahkan dengan koma menjadi format list\n",
        "all_genres = anime_df['genre'].str.split(', ')\n",
        "\n",
        "# Mengubah list genre menjadi satu dataframe panjang (1 genre per baris)\n",
        "genre_exploded = all_genres.explode()\n",
        "\n",
        "# Menghitung jumlah kemunculan setiap genre\n",
        "genre_counts = genre_exploded.value_counts()\n",
        "\n",
        "# Mengatur ukuran figure\n",
        "plt.figure(figsize=(12, 6))\n",
        "\n",
        "# Membuat bar chart semua genre\n",
        "sns.barplot(x=genre_counts.index, y=genre_counts.values, hue=genre_counts.index, dodge=False, palette=\"viridis\", legend=False)\n",
        "\n",
        "# Menyesuaikan tampilan\n",
        "plt.xticks(rotation=90)  # Memutar label genre agar tidak bertumpuk\n",
        "plt.xlabel(\"Genre\")\n",
        "plt.ylabel(\"Jumlah Kemunculan\")\n",
        "plt.title(\"Distribusi Semua Genre dalam Dataset Anime\")\n",
        "plt.show()"
      ],
      "metadata": {
        "colab": {
          "base_uri": "https://localhost:8080/",
          "height": 577
        },
        "id": "ma1Bh8G-1JfD",
        "outputId": "669aaec2-fbd1-441c-9604-5c79faaccc67"
      },
      "execution_count": 14,
      "outputs": [
        {
          "output_type": "display_data",
          "data": {
            "text/plain": [
              "<Figure size 1200x600 with 1 Axes>"
            ],
            "image/png": "[encoded data removed]"
          },
          "metadata": {}
        }
      ]
    },
    {
      "cell_type": "code",
      "source": [
        "# Scatter plot untuk melihat hubungan antara rating dan jumlah members\n",
        "plt.figure(figsize=(8, 5))\n",
        "sns.scatterplot(x=anime_df['rating'], y=anime_df['members'], alpha=0.5)\n",
        "plt.title(\"Scatter Plot Rating vs. Jumlah Members\")\n",
        "plt.xlabel(\"Rating\")\n",
        "plt.ylabel(\"Jumlah Members\")\n",
        "plt.show()"
      ],
      "metadata": {
        "colab": {
          "base_uri": "https://localhost:8080/",
          "height": 487
        },
        "id": "98FTczdZx95g",
        "outputId": "2a986ebc-3702-4693-f4dd-7e43584adc00"
      },
      "execution_count": 15,
      "outputs": [
        {
          "output_type": "display_data",
          "data": {
            "text/plain": [
              "<Figure size 800x500 with 1 Axes>"
            ],
            "image/png": "[encoded data removed]"
          },
          "metadata": {}
        }
      ]
    },
    {
      "cell_type": "code",
      "source": [
        "# Pairplot untuk melihat pola hubungan antar variabel numerik\n",
        "sns.pairplot(anime_df[numerical_cols])\n",
        "plt.show()"
      ],
      "metadata": {
        "colab": {
          "base_uri": "https://localhost:8080/",
          "height": 513
        },
        "id": "QyssVFZ5yA4M",
        "outputId": "8154f0b4-e4c3-4711-bdf2-04b9fbbcdff9"
      },
      "execution_count": 16,
      "outputs": [
        {
          "output_type": "display_data",
          "data": {
            "text/plain": [
              "<Figure size 500x500 with 6 Axes>"
            ],
            "image/png": "[encoded data removed]"
          },
          "metadata": {}
        }
      ]
    },
    {
      "cell_type": "markdown",
      "source": [
        "# **5. Data Preprocessing**"
      ],
      "metadata": {
        "id": "cpgHfgnSK3ip"
      }
    },
    {
      "cell_type": "markdown",
      "source": [
        "Pada tahap ini, data preprocessing adalah langkah penting untuk memastikan kualitas data sebelum digunakan dalam model machine learning. Data mentah sering kali mengandung nilai kosong, duplikasi, atau rentang nilai yang tidak konsisten, yang dapat memengaruhi kinerja model. Oleh karena itu, proses ini bertujuan untuk membersihkan dan mempersiapkan data agar analisis berjalan optimal.\n",
        "\n",
        "Berikut adalah tahapan-tahapan yang bisa dilakukan, tetapi **tidak terbatas** pada:\n",
        "1. Menghapus atau Menangani Data Kosong (Missing Values)\n",
        "2. Menghapus Data Duplikat\n",
        "3. Normalisasi atau Standarisasi Fitur\n",
        "4. Deteksi dan Penanganan Outlier\n",
        "5. Encoding Data Kategorikal\n",
        "6. Binning (Pengelompokan Data)\n",
        "\n",
        "Cukup sesuaikan dengan karakteristik data yang kamu gunakan yah."
      ],
      "metadata": {
        "id": "COf8KUPXLg5r"
      }
    },
    {
      "cell_type": "code",
      "source": [
        "# Mengisi nilai kosong pada kolom 'type' dengan modus (nilai yang paling sering muncul)\n",
        "mode_type = anime_df['type'].mode()[0]\n",
        "anime_df.loc[:, 'type'] = anime_df['type'].fillna(mode_type)\n",
        "\n",
        "# Simpan nilai sebelum perubahan\n",
        "before_changes = anime_df['episodes'].replace('Unknown', np.nan)\n",
        "\n",
        "# Konversi 'Unknown' ke NaN dan ubah tipe data ke float\n",
        "anime_df['episodes'] = before_changes.astype(float)\n",
        "\n",
        "# Mengatur episodes menjadi 1 untuk Movie\n",
        "anime_df.loc[anime_df['type'] == 'Movie', 'episodes'] = 1\n",
        "\n",
        "# Menghitung mean untuk setiap tipe anime selain Movie\n",
        "mean_values = anime_df.groupby('type')['episodes'].mean()\n",
        "\n",
        "# Mengisi nilai NaN dengan mean sesuai tipe anime\n",
        "anime_df['episodes'] = anime_df.apply(lambda row: mean_values[row['type']] if pd.isna(row['episodes']) else row['episodes'], axis=1)\n",
        "\n",
        "# Menampilkan hanya baris yang mengalami perubahan\n",
        "changed_rows = anime_df[before_changes.isna()][['name', 'type', 'episodes']]\n",
        "\n",
        "# Menampilkan beberapa hasil perubahan\n",
        "print(changed_rows.head())"
      ],
      "metadata": {
        "id": "YqnAi3vs9LSM",
        "colab": {
          "base_uri": "https://localhost:8080/"
        },
        "outputId": "c2b44af4-74e1-45c2-8b0f-14827b34e4fc"
      },
      "execution_count": 17,
      "outputs": [
        {
          "output_type": "stream",
          "name": "stdout",
          "text": [
            "                                        name     type   episodes\n",
            "74                                 One Piece       TV  35.915595\n",
            "252                          Detective Conan       TV  35.915595\n",
            "615                       Naruto: Shippuuden       TV  35.915595\n",
            "991                         Crayon Shin-chan       TV  35.915595\n",
            "1021  Tanaka-kun wa Itsumo Kedaruge Specials  Special   2.561341\n"
          ]
        }
      ]
    },
    {
      "cell_type": "code",
      "source": [
        "#Mengisi missing value dangan nilai median\n",
        "anime_df['rating'] = anime_df['rating'].fillna(anime_df['rating'].median())\n",
        "\n",
        "#Mengisi missing value dengan modus\n",
        "anime_df['genre'] = anime_df['genre'].fillna(anime_df['genre'].mode()[0])"
      ],
      "metadata": {
        "id": "pj7rl1lF-vhc"
      },
      "execution_count": 18,
      "outputs": []
    },
    {
      "cell_type": "code",
      "source": [
        "anime_df.info()"
      ],
      "metadata": {
        "colab": {
          "base_uri": "https://localhost:8080/"
        },
        "id": "-JuCr9WAWjoW",
        "outputId": "37f393ec-c304-49ff-e571-21da05bc73e3"
      },
      "execution_count": 19,
      "outputs": [
        {
          "output_type": "stream",
          "name": "stdout",
          "text": [
            "<class 'pandas.core.frame.DataFrame'>\n",
            "RangeIndex: 12294 entries, 0 to 12293\n",
            "Data columns (total 7 columns):\n",
            " #   Column    Non-Null Count  Dtype  \n",
            "---  ------    --------------  -----  \n",
            " 0   anime_id  12294 non-null  int64  \n",
            " 1   name      12294 non-null  object \n",
            " 2   genre     12294 non-null  object \n",
            " 3   type      12294 non-null  object \n",
            " 4   episodes  12294 non-null  float64\n",
            " 5   rating    12294 non-null  float64\n",
            " 6   members   12294 non-null  int64  \n",
            "dtypes: float64(2), int64(2), object(3)\n",
            "memory usage: 672.5+ KB\n"
          ]
        }
      ]
    },
    {
      "cell_type": "code",
      "source": [
        "# Binning Rating\n",
        "rating_bins = [0, 2, 3, 4, 5, 6, 7, 8, 8.5, 9, 10]  # Rentang rating\n",
        "rating_labels = [\"Very Low\", \"Low\", \"Below Average\", \"Slightly Below Average\", \"Medium\", \"Slightly Above Average\", \"Above Average\", \"High\", \"Very High\", \"Excellent\"]  # Label kategori\n",
        "anime_df[\"rating_category\"] = pd.cut(anime_df[\"rating\"], bins=rating_bins, labels=rating_labels, include_lowest=True)\n"
      ],
      "metadata": {
        "id": "4J1AbwqYYLy9"
      },
      "execution_count": 20,
      "outputs": []
    },
    {
      "cell_type": "code",
      "source": [
        "#Normalisasi kolom 'members'\n",
        "scaler = StandardScaler()\n",
        "anime_df[\"members_scaled\"] = scaler.fit_transform(anime_df[[\"members\"]])\n",
        "\n",
        "print(anime_df[['members', 'members_scaled']].head(10))"
      ],
      "metadata": {
        "id": "3UEUngwjmoRp",
        "colab": {
          "base_uri": "https://localhost:8080/"
        },
        "outputId": "fbae4196-2888-48aa-f8ac-659d326195eb"
      },
      "execution_count": 21,
      "outputs": [
        {
          "output_type": "stream",
          "name": "stdout",
          "text": [
            "   members  members_scaled\n",
            "0   200630        3.330241\n",
            "1   793665       14.148406\n",
            "2   114262        1.754713\n",
            "3   673572       11.957666\n",
            "4   151266        2.429742\n",
            "5    93351        1.373254\n",
            "6   425855        7.438804\n",
            "7    80679        1.142091\n",
            "8    72534        0.993510\n",
            "9    81109        1.149935\n"
          ]
        }
      ]
    },
    {
      "cell_type": "code",
      "source": [
        "# Encoding rating_category\n",
        "encoder = OneHotEncoder()\n",
        "rating_encoded = encoder.fit_transform(anime_df[[\"rating_category\"]]).toarray()\n",
        "rating_encoded_df = pd.DataFrame(rating_encoded, columns=encoder.get_feature_names_out([\"rating_category\"]))"
      ],
      "metadata": {
        "id": "kHPtv4V4j5Dv"
      },
      "execution_count": 22,
      "outputs": []
    },
    {
      "cell_type": "code",
      "source": [
        "anime_df.describe()"
      ],
      "metadata": {
        "id": "hgYvwWOzM93L",
        "colab": {
          "base_uri": "https://localhost:8080/",
          "height": 0
        },
        "outputId": "c7b93ab9-c7f0-40d1-b9a1-07e7d9f2e831"
      },
      "execution_count": 23,
      "outputs": [
        {
          "output_type": "execute_result",
          "data": {
            "text/plain": [
              "           anime_id      episodes        rating       members  members_scaled\n",
              "count  12294.000000  12294.000000  12294.000000  1.229400e+04    1.229400e+04\n",
              "mean   14058.221653     12.741211      6.475700  1.807134e+04    3.698937e-17\n",
              "std    11455.294701     46.327080      1.017179  5.482068e+04    1.000041e+00\n",
              "min        1.000000      1.000000      1.670000  5.000000e+00   -3.295668e-01\n",
              "25%     3484.250000      1.000000      5.900000  2.250000e+02   -3.255535e-01\n",
              "50%    10260.500000      2.000000      6.570000  1.550000e+03   -3.013828e-01\n",
              "75%    24794.500000     12.000000      7.170000  9.437000e+03   -1.575079e-01\n",
              "max    34527.000000   1818.000000     10.000000  1.013917e+06    1.816625e+01"
            ],
            "text/html": [
              "\n",
              "  <div id=\"df-6852261f-4101-4e90-b03d-f8afa760d23f\" class=\"colab-df-container\">\n",
              "    <div>\n",
              "<style scoped>\n",
              "    .dataframe tbody tr th:only-of-type {\n",
              "        vertical-align: middle;\n",
              "    }\n",
              "\n",
              "    .dataframe tbody tr th {\n",
              "        vertical-align: top;\n",
              "    }\n",
              "\n",
              "    .dataframe thead th {\n",
              "        text-align: right;\n",
              "    }\n",
              "</style>\n",
              "<table border=\"1\" class=\"dataframe\">\n",
              "  <thead>\n",
              "    <tr style=\"text-align: right;\">\n",
              "      <th></th>\n",
              "      <th>anime_id</th>\n",
              "      <th>episodes</th>\n",
              "      <th>rating</th>\n",
              "      <th>members</th>\n",
              "      <th>members_scaled</th>\n",
              "    </tr>\n",
              "  </thead>\n",
              "  <tbody>\n",
              "    <tr>\n",
              "      <th>count</th>\n",
              "      <td>12294.000000</td>\n",
              "      <td>12294.000000</td>\n",
              "      <td>12294.000000</td>\n",
              "      <td>1.229400e+04</td>\n",
              "      <td>1.229400e+04</td>\n",
              "    </tr>\n",
              "    <tr>\n",
              "      <th>mean</th>\n",
              "      <td>14058.221653</td>\n",
              "      <td>12.741211</td>\n",
              "      <td>6.475700</td>\n",
              "      <td>1.807134e+04</td>\n",
              "      <td>3.698937e-17</td>\n",
              "    </tr>\n",
              "    <tr>\n",
              "      <th>std</th>\n",
              "      <td>11455.294701</td>\n",
              "      <td>46.327080</td>\n",
              "      <td>1.017179</td>\n",
              "      <td>5.482068e+04</td>\n",
              "      <td>1.000041e+00</td>\n",
              "    </tr>\n",
              "    <tr>\n",
              "      <th>min</th>\n",
              "      <td>1.000000</td>\n",
              "      <td>1.000000</td>\n",
              "      <td>1.670000</td>\n",
              "      <td>5.000000e+00</td>\n",
              "      <td>-3.295668e-01</td>\n",
              "    </tr>\n",
              "    <tr>\n",
              "      <th>25%</th>\n",
              "      <td>3484.250000</td>\n",
              "      <td>1.000000</td>\n",
              "      <td>5.900000</td>\n",
              "      <td>2.250000e+02</td>\n",
              "      <td>-3.255535e-01</td>\n",
              "    </tr>\n",
              "    <tr>\n",
              "      <th>50%</th>\n",
              "      <td>10260.500000</td>\n",
              "      <td>2.000000</td>\n",
              "      <td>6.570000</td>\n",
              "      <td>1.550000e+03</td>\n",
              "      <td>-3.013828e-01</td>\n",
              "    </tr>\n",
              "    <tr>\n",
              "      <th>75%</th>\n",
              "      <td>24794.500000</td>\n",
              "      <td>12.000000</td>\n",
              "      <td>7.170000</td>\n",
              "      <td>9.437000e+03</td>\n",
              "      <td>-1.575079e-01</td>\n",
              "    </tr>\n",
              "    <tr>\n",
              "      <th>max</th>\n",
              "      <td>34527.000000</td>\n",
              "      <td>1818.000000</td>\n",
              "      <td>10.000000</td>\n",
              "      <td>1.013917e+06</td>\n",
              "      <td>1.816625e+01</td>\n",
              "    </tr>\n",
              "  </tbody>\n",
              "</table>\n",
              "</div>\n",
              "    <div class=\"colab-df-buttons\">\n",
              "\n",
              "  <div class=\"colab-df-container\">\n",
              "    <button class=\"colab-df-convert\" onclick=\"convertToInteractive('df-6852261f-4101-4e90-b03d-f8afa760d23f')\"\n",
              "            title=\"Convert this dataframe to an interactive table.\"\n",
              "            style=\"display:none;\">\n",
              "\n",
              "  <svg xmlns=\"http://www.w3.org/2000/svg\" height=\"24px\" viewBox=\"0 -960 960 960\">\n",
              "    <path d=\"M120-120v-720h720v720H120Zm60-500h600v-160H180v160Zm220 220h160v-160H400v160Zm0 220h160v-160H400v160ZM180-400h160v-160H180v160Zm440 0h160v-160H620v160ZM180-180h160v-160H180v160Zm440 0h160v-160H620v160Z\"/>\n",
              "  </svg>\n",
              "    </button>\n",
              "\n",
              "  <style>\n",
              "    .colab-df-container {\n",
              "      display:flex;\n",
              "      gap: 12px;\n",
              "    }\n",
              "\n",
              "    .colab-df-convert {\n",
              "      background-color: #E8F0FE;\n",
              "      border: none;\n",
              "      border-radius: 50%;\n",
              "      cursor: pointer;\n",
              "      display: none;\n",
              "      fill: #1967D2;\n",
              "      height: 32px;\n",
              "      padding: 0 0 0 0;\n",
              "      width: 32px;\n",
              "    }\n",
              "\n",
              "    .colab-df-convert:hover {\n",
              "      background-color: #E2EBFA;\n",
              "      box-shadow: 0px 1px 2px rgba(60, 64, 67, 0.3), 0px 1px 3px 1px rgba(60, 64, 67, 0.15);\n",
              "      fill: #174EA6;\n",
              "    }\n",
              "\n",
              "    .colab-df-buttons div {\n",
              "      margin-bottom: 4px;\n",
              "    }\n",
              "\n",
              "    [theme=dark] .colab-df-convert {\n",
              "      background-color: #3B4455;\n",
              "      fill: #D2E3FC;\n",
              "    }\n",
              "\n",
              "    [theme=dark] .colab-df-convert:hover {\n",
              "      background-color: #434B5C;\n",
              "      box-shadow: 0px 1px 3px 1px rgba(0, 0, 0, 0.15);\n",
              "      filter: drop-shadow(0px 1px 2px rgba(0, 0, 0, 0.3));\n",
              "      fill: #FFFFFF;\n",
              "    }\n",
              "  </style>\n",
              "\n",
              "    <script>\n",
              "      const buttonEl =\n",
              "        document.querySelector('#df-6852261f-4101-4e90-b03d-f8afa760d23f button.colab-df-convert');\n",
              "      buttonEl.style.display =\n",
              "        google.colab.kernel.accessAllowed ? 'block' : 'none';\n",
              "\n",
              "      async function convertToInteractive(key) {\n",
              "        const element = document.querySelector('#df-6852261f-4101-4e90-b03d-f8afa760d23f');\n",
              "        const dataTable =\n",
              "          await google.colab.kernel.invokeFunction('convertToInteractive',\n",
              "                                                    [key], {});\n",
              "        if (!dataTable) return;\n",
              "\n",
              "        const docLinkHtml = 'Like what you see? Visit the ' +\n",
              "          '<a target=\"_blank\" href=https://colab.research.google.com/notebooks/data_table.ipynb>data table notebook</a>'\n",
              "          + ' to learn more about interactive tables.';\n",
              "        element.innerHTML = '';\n",
              "        dataTable['output_type'] = 'display_data';\n",
              "        await google.colab.output.renderOutput(dataTable, element);\n",
              "        const docLink = document.createElement('div');\n",
              "        docLink.innerHTML = docLinkHtml;\n",
              "        element.appendChild(docLink);\n",
              "      }\n",
              "    </script>\n",
              "  </div>\n",
              "\n",
              "\n",
              "<div id=\"df-3ff02bb1-0cbd-4733-8f2a-b8769abfd298\">\n",
              "  <button class=\"colab-df-quickchart\" onclick=\"quickchart('df-3ff02bb1-0cbd-4733-8f2a-b8769abfd298')\"\n",
              "            title=\"Suggest charts\"\n",
              "            style=\"display:none;\">\n",
              "\n",
              "<svg xmlns=\"http://www.w3.org/2000/svg\" height=\"24px\"viewBox=\"0 0 24 24\"\n",
              "     width=\"24px\">\n",
              "    <g>\n",
              "        <path d=\"M19 3H5c-1.1 0-2 .9-2 2v14c0 1.1.9 2 2 2h14c1.1 0 2-.9 2-2V5c0-1.1-.9-2-2-2zM9 17H7v-7h2v7zm4 0h-2V7h2v10zm4 0h-2v-4h2v4z\"/>\n",
              "    </g>\n",
              "</svg>\n",
              "  </button>\n",
              "\n",
              "<style>\n",
              "  .colab-df-quickchart {\n",
              "      --bg-color: #E8F0FE;\n",
              "      --fill-color: #1967D2;\n",
              "      --hover-bg-color: #E2EBFA;\n",
              "      --hover-fill-color: #174EA6;\n",
              "      --disabled-fill-color: #AAA;\n",
              "      --disabled-bg-color: #DDD;\n",
              "  }\n",
              "\n",
              "  [theme=dark] .colab-df-quickchart {\n",
              "      --bg-color: #3B4455;\n",
              "      --fill-color: #D2E3FC;\n",
              "      --hover-bg-color: #434B5C;\n",
              "      --hover-fill-color: #FFFFFF;\n",
              "      --disabled-bg-color: #3B4455;\n",
              "      --disabled-fill-color: #666;\n",
              "  }\n",
              "\n",
              "  .colab-df-quickchart {\n",
              "    background-color: var(--bg-color);\n",
              "    border: none;\n",
              "    border-radius: 50%;\n",
              "    cursor: pointer;\n",
              "    display: none;\n",
              "    fill: var(--fill-color);\n",
              "    height: 32px;\n",
              "    padding: 0;\n",
              "    width: 32px;\n",
              "  }\n",
              "\n",
              "  .colab-df-quickchart:hover {\n",
              "    background-color: var(--hover-bg-color);\n",
              "    box-shadow: 0 1px 2px rgba(60, 64, 67, 0.3), 0 1px 3px 1px rgba(60, 64, 67, 0.15);\n",
              "    fill: var(--button-hover-fill-color);\n",
              "  }\n",
              "\n",
              "  .colab-df-quickchart-complete:disabled,\n",
              "  .colab-df-quickchart-complete:disabled:hover {\n",
              "    background-color: var(--disabled-bg-color);\n",
              "    fill: var(--disabled-fill-color);\n",
              "    box-shadow: none;\n",
              "  }\n",
              "\n",
              "  .colab-df-spinner {\n",
              "    border: 2px solid var(--fill-color);\n",
              "    border-color: transparent;\n",
              "    border-bottom-color: var(--fill-color);\n",
              "    animation:\n",
              "      spin 1s steps(1) infinite;\n",
              "  }\n",
              "\n",
              "  @keyframes spin {\n",
              "    0% {\n",
              "      border-color: transparent;\n",
              "      border-bottom-color: var(--fill-color);\n",
              "      border-left-color: var(--fill-color);\n",
              "    }\n",
              "    20% {\n",
              "      border-color: transparent;\n",
              "      border-left-color: var(--fill-color);\n",
              "      border-top-color: var(--fill-color);\n",
              "    }\n",
              "    30% {\n",
              "      border-color: transparent;\n",
              "      border-left-color: var(--fill-color);\n",
              "      border-top-color: var(--fill-color);\n",
              "      border-right-color: var(--fill-color);\n",
              "    }\n",
              "    40% {\n",
              "      border-color: transparent;\n",
              "      border-right-color: var(--fill-color);\n",
              "      border-top-color: var(--fill-color);\n",
              "    }\n",
              "    60% {\n",
              "      border-color: transparent;\n",
              "      border-right-color: var(--fill-color);\n",
              "    }\n",
              "    80% {\n",
              "      border-color: transparent;\n",
              "      border-right-color: var(--fill-color);\n",
              "      border-bottom-color: var(--fill-color);\n",
              "    }\n",
              "    90% {\n",
              "      border-color: transparent;\n",
              "      border-bottom-color: var(--fill-color);\n",
              "    }\n",
              "  }\n",
              "</style>\n",
              "\n",
              "  <script>\n",
              "    async function quickchart(key) {\n",
              "      const quickchartButtonEl =\n",
              "        document.querySelector('#' + key + ' button');\n",
              "      quickchartButtonEl.disabled = true;  // To prevent multiple clicks.\n",
              "      quickchartButtonEl.classList.add('colab-df-spinner');\n",
              "      try {\n",
              "        const charts = await google.colab.kernel.invokeFunction(\n",
              "            'suggestCharts', [key], {});\n",
              "      } catch (error) {\n",
              "        console.error('Error during call to suggestCharts:', error);\n",
              "      }\n",
              "      quickchartButtonEl.classList.remove('colab-df-spinner');\n",
              "      quickchartButtonEl.classList.add('colab-df-quickchart-complete');\n",
              "    }\n",
              "    (() => {\n",
              "      let quickchartButtonEl =\n",
              "        document.querySelector('#df-3ff02bb1-0cbd-4733-8f2a-b8769abfd298 button');\n",
              "      quickchartButtonEl.style.display =\n",
              "        google.colab.kernel.accessAllowed ? 'block' : 'none';\n",
              "    })();\n",
              "  </script>\n",
              "</div>\n",
              "\n",
              "    </div>\n",
              "  </div>\n"
            ],
            "application/vnd.google.colaboratory.intrinsic+json": {
              "type": "dataframe",
              "summary": "{\n  \"name\": \"anime_df\",\n  \"rows\": 8,\n  \"fields\": [\n    {\n      \"column\": \"anime_id\",\n      \"properties\": {\n        \"dtype\": \"number\",\n        \"std\": 11133.263547568791,\n        \"min\": 1.0,\n        \"max\": 34527.0,\n        \"num_unique_values\": 8,\n        \"samples\": [\n          14058.221652838783,\n          10260.5,\n          12294.0\n        ],\n        \"semantic_type\": \"\",\n        \"description\": \"\"\n      }\n    },\n    {\n      \"column\": \"episodes\",\n      \"properties\": {\n        \"dtype\": \"number\",\n        \"std\": 4297.688834085373,\n        \"min\": 1.0,\n        \"max\": 12294.0,\n        \"num_unique_values\": 7,\n        \"samples\": [\n          12294.0,\n          12.741210552028843,\n          12.0\n        ],\n        \"semantic_type\": \"\",\n        \"description\": \"\"\n      }\n    },\n    {\n      \"column\": \"rating\",\n      \"properties\": {\n        \"dtype\": \"number\",\n        \"std\": 4344.626529838271,\n        \"min\": 1.0171791741009173,\n        \"max\": 12294.0,\n        \"num_unique_values\": 8,\n        \"samples\": [\n          6.47569952822515,\n          6.57,\n          12294.0\n        ],\n        \"semantic_type\": \"\",\n        \"description\": \"\"\n      }\n    },\n    {\n      \"column\": \"members\",\n      \"properties\": {\n        \"dtype\": \"number\",\n        \"std\": 354058.2878098787,\n        \"min\": 5.0,\n        \"max\": 1013917.0,\n        \"num_unique_values\": 8,\n        \"samples\": [\n          18071.33886448674,\n          1550.0,\n          12294.0\n        ],\n        \"semantic_type\": \"\",\n        \"description\": \"\"\n      }\n    },\n    {\n      \"column\": \"members_scaled\",\n      \"properties\": {\n        \"dtype\": \"number\",\n        \"std\": 4345.678287079132,\n        \"min\": -0.32956677453111327,\n        \"max\": 12294.0,\n        \"num_unique_values\": 8,\n        \"samples\": [\n          3.6989372936917533e-17,\n          -0.30138283142731853,\n          12294.0\n        ],\n        \"semantic_type\": \"\",\n        \"description\": \"\"\n      }\n    }\n  ]\n}"
            }
          },
          "metadata": {},
          "execution_count": 23
        }
      ]
    },
    {
      "cell_type": "code",
      "source": [
        "print(anime_df.isnull().sum())"
      ],
      "metadata": {
        "colab": {
          "base_uri": "https://localhost:8080/"
        },
        "id": "l7Lt8CWU58Jn",
        "outputId": "1049ad55-e89a-408f-976b-1b63e714bb99"
      },
      "execution_count": 24,
      "outputs": [
        {
          "output_type": "stream",
          "name": "stdout",
          "text": [
            "anime_id           0\n",
            "name               0\n",
            "genre              0\n",
            "type               0\n",
            "episodes           0\n",
            "rating             0\n",
            "members            0\n",
            "rating_category    0\n",
            "members_scaled     0\n",
            "dtype: int64\n"
          ]
        }
      ]
    },
    {
      "cell_type": "code",
      "source": [
        "anime_df.info()"
      ],
      "metadata": {
        "colab": {
          "base_uri": "https://localhost:8080/"
        },
        "id": "PFyFkaP2QmOJ",
        "outputId": "0e662272-2d74-4bf8-adb6-798dee77568b"
      },
      "execution_count": 25,
      "outputs": [
        {
          "output_type": "stream",
          "name": "stdout",
          "text": [
            "<class 'pandas.core.frame.DataFrame'>\n",
            "RangeIndex: 12294 entries, 0 to 12293\n",
            "Data columns (total 9 columns):\n",
            " #   Column           Non-Null Count  Dtype   \n",
            "---  ------           --------------  -----   \n",
            " 0   anime_id         12294 non-null  int64   \n",
            " 1   name             12294 non-null  object  \n",
            " 2   genre            12294 non-null  object  \n",
            " 3   type             12294 non-null  object  \n",
            " 4   episodes         12294 non-null  float64 \n",
            " 5   rating           12294 non-null  float64 \n",
            " 6   members          12294 non-null  int64   \n",
            " 7   rating_category  12294 non-null  category\n",
            " 8   members_scaled   12294 non-null  float64 \n",
            "dtypes: category(1), float64(3), int64(2), object(3)\n",
            "memory usage: 780.9+ KB\n"
          ]
        }
      ]
    },
    {
      "cell_type": "markdown",
      "source": [
        "# **6. Pembangunan Model Clustering**"
      ],
      "metadata": {
        "id": "BR73dCnrLEiq"
      }
    },
    {
      "cell_type": "markdown",
      "source": [
        "## **a. Pembangunan Model Clustering**"
      ],
      "metadata": {
        "id": "Fkd_QHXWMBDr"
      }
    },
    {
      "cell_type": "markdown",
      "source": [
        "Pada tahap ini, Anda membangun model clustering dengan memilih algoritma yang sesuai untuk mengelompokkan data berdasarkan kesamaan. Berikut adalah **rekomendasi** tahapannya.\n",
        "1. Pilih algoritma clustering yang sesuai.\n",
        "2. Latih model dengan data menggunakan algoritma tersebut."
      ],
      "metadata": {
        "id": "Kn6Y2qbqMVLP"
      }
    },
    {
      "cell_type": "code",
      "source": [
        "# Gabungkan rating yang sudah di-encode dengan members_scaled\n",
        "data_for_clustering = pd.concat([rating_encoded_df, anime_df[[\"members_scaled\"]]], axis=1)\n",
        "\n",
        "# Menentukan jumlah cluster\n",
        "optimal_k = 8\n",
        "\n",
        "# Clustering dengan K=8\n",
        "kmeans = KMeans(n_clusters=8, random_state=42, n_init=10)\n",
        "anime_df[\"cluster\"] = kmeans.fit_predict(data_for_clustering)\n",
        "\n",
        "# Urutkan cluster berdasarkan jumlah rata-rata anggota (members), cluster terbaik di 0\n",
        "cluster_order = anime_df.groupby(\"cluster\")[\"members\"].mean().sort_values(ascending=False).index\n",
        "cluster_mapping = {old: new for new, old in enumerate(cluster_order)}\n",
        "anime_df[\"cluster\"] = anime_df[\"cluster\"].map(cluster_mapping).fillna(-1).astype(int)\n",
        "\n",
        "# Menampilkan hasil clustering\n",
        "print(anime_df[['name', 'cluster']].head())"
      ],
      "metadata": {
        "colab": {
          "base_uri": "https://localhost:8080/"
        },
        "id": "Uv7RHI07ThYL",
        "outputId": "895e5cf4-ec65-439a-f1a3-cb3f75dea246"
      },
      "execution_count": 26,
      "outputs": [
        {
          "output_type": "stream",
          "name": "stdout",
          "text": [
            "                               name  cluster\n",
            "0                    Kimi no Na wa.        1\n",
            "1  Fullmetal Alchemist: Brotherhood        0\n",
            "2                          Gintama°        2\n",
            "3                       Steins;Gate        0\n",
            "4                     Gintama&#039;        2\n"
          ]
        }
      ]
    },
    {
      "cell_type": "markdown",
      "source": [
        "## **b. Evaluasi Model Clustering**"
      ],
      "metadata": {
        "id": "zsGVwzPKMEvn"
      }
    },
    {
      "cell_type": "markdown",
      "source": [
        "Untuk menentukan jumlah cluster yang optimal dalam model clustering, Anda dapat menggunakan metode Elbow atau Silhouette Score.\n",
        "\n",
        "Metode ini membantu kita menemukan jumlah cluster yang memberikan pemisahan terbaik antar kelompok data, sehingga model yang dibangun dapat lebih efektif. Berikut adalah **rekomendasi** tahapannya.\n",
        "1. Gunakan Silhouette Score dan Elbow Method untuk menentukan jumlah cluster optimal.\n",
        "2. Hitung Silhouette Score sebagai ukuran kualitas cluster."
      ],
      "metadata": {
        "id": "qk63ew39MeBf"
      }
    },
    {
      "cell_type": "code",
      "source": [
        "# Mencoba berbagai nilai K dan menghitung silhouette score\n",
        "inertia = []\n",
        "silhouette_scores = []\n",
        "k_values = range(2, 10)\n",
        "\n",
        "for k in k_values:\n",
        "    kmeans = KMeans(n_clusters=k, random_state=42, n_init=10)\n",
        "    cluster_labels = kmeans.fit_predict(data_for_clustering)\n",
        "    inertia.append(kmeans.inertia_)\n",
        "    silhouette_scores.append(silhouette_score(data_for_clustering, cluster_labels))\n",
        "\n",
        "# Plot Silhouette Score\n",
        "plt.figure(figsize=(8, 5))\n",
        "plt.plot(k_values, silhouette_scores, marker='o', linestyle='-', color='red')\n",
        "plt.xlabel(\"Number of Clusters (k)\")\n",
        "plt.ylabel(\"Silhouette Score\")\n",
        "plt.title(\"Silhouette Score for Different k Values\")\n",
        "plt.show()"
      ],
      "metadata": {
        "colab": {
          "base_uri": "https://localhost:8080/",
          "height": 487
        },
        "id": "K0Jn4VLG_lhg",
        "outputId": "c57ac1eb-c0c8-416f-90bc-72341b65a42f"
      },
      "execution_count": 27,
      "outputs": [
        {
          "output_type": "display_data",
          "data": {
            "text/plain": [
              "<Figure size 800x500 with 1 Axes>"
            ],
            "image/png": "[encoded data removed]"
          },
          "metadata": {}
        }
      ]
    },
    {
      "cell_type": "code",
      "source": [
        "# Plot Elbow Method\n",
        "plt.figure(figsize=(8, 5))\n",
        "plt.plot(k_values, inertia, marker='o', linestyle='-')\n",
        "plt.xlabel(\"Number of Clusters (k)\")\n",
        "plt.ylabel(\"Inertia\")\n",
        "plt.title(\"Elbow Method for Optimal k\")\n",
        "plt.show()"
      ],
      "metadata": {
        "colab": {
          "base_uri": "https://localhost:8080/",
          "height": 487
        },
        "id": "qbjZ9xIZWo_Q",
        "outputId": "5f0f8315-c1c6-472a-b576-46b0b25753d2"
      },
      "execution_count": 28,
      "outputs": [
        {
          "output_type": "display_data",
          "data": {
            "text/plain": [
              "<Figure size 800x500 with 1 Axes>"
            ],
            "image/png": "[encoded data removed]"
          },
          "metadata": {}
        }
      ]
    },
    {
      "cell_type": "code",
      "source": [
        "# Menghitung Silhouette Score\n",
        "silhouette_avg = silhouette_score(data_for_clustering, anime_df['cluster'])\n",
        "print(f'Silhouette Score: {silhouette_avg}')"
      ],
      "metadata": {
        "colab": {
          "base_uri": "https://localhost:8080/"
        },
        "id": "YqGOQLunUD0U",
        "outputId": "4146c882-2b64-4761-8225-1f10115e56af"
      },
      "execution_count": 29,
      "outputs": [
        {
          "output_type": "stream",
          "name": "stdout",
          "text": [
            "Silhouette Score: 0.8305116397436049\n"
          ]
        }
      ]
    },
    {
      "cell_type": "markdown",
      "source": [
        "## **c. Feature Selection (Opsional)**"
      ],
      "metadata": {
        "id": "vWZp5vKNQddd"
      }
    },
    {
      "cell_type": "markdown",
      "source": [
        "Silakan lakukan feature selection jika Anda membutuhkan optimasi model clustering. Jika Anda menerapkan proses ini, silakan lakukan pemodelan dan evaluasi kembali menggunakan kolom-kolom hasil feature selection. Terakhir, bandingkan hasil performa model sebelum dan sesudah menerapkan feature selection."
      ],
      "metadata": {
        "id": "QIHKgE07Q4c0"
      }
    },
    {
      "cell_type": "code",
      "source": [
        "# Gabungkan rating yang sudah di-encode dengan members_scaled\n",
        "data_for_clustering = pd.concat([rating_encoded_df, anime_df[[\"members_scaled\"]]], axis=1)\n",
        "\n",
        "# Clustering sebelum feature selection\n",
        "optimal_k = 8\n",
        "kmeans = KMeans(n_clusters=optimal_k, random_state=42, n_init=10)\n",
        "anime_df[\"cluster_before\"] = kmeans.fit_predict(data_for_clustering)\n",
        "silhouette_before = silhouette_score(data_for_clustering, anime_df[\"cluster_before\"])\n",
        "\n",
        "# Feature selection menggunakan SelectKBest\n",
        "selector = SelectKBest(score_func=f_classif, k='all')  # Coba dengan semua fitur\n",
        "selected_features = selector.fit_transform(data_for_clustering, anime_df[\"cluster_before\"])\n",
        "selected_feature_names = data_for_clustering.columns[selector.get_support()]\n",
        "\n",
        "# Clustering setelah feature selection\n",
        "data_selected = pd.DataFrame(selected_features, columns=selected_feature_names)\n",
        "kmeans = KMeans(n_clusters=optimal_k, random_state=42, n_init=10)\n",
        "anime_df[\"cluster_after\"] = kmeans.fit_predict(data_selected)\n",
        "silhouette_after = silhouette_score(data_selected, anime_df[\"cluster_after\"])\n",
        "\n",
        "# Pilih hasil clustering terbaik\n",
        "if silhouette_after > silhouette_before:\n",
        "    anime_df[\"cluster\"] = anime_df[\"cluster_after\"]\n",
        "    best_silhouette = silhouette_after\n",
        "else:\n",
        "    anime_df[\"cluster\"] = anime_df[\"cluster_before\"]\n",
        "    best_silhouette = silhouette_before\n",
        "\n",
        "# Urutkan cluster berdasarkan jumlah rata-rata anggota (members)\n",
        "cluster_order = anime_df.groupby(\"cluster\")[\"members\"].mean().sort_values(ascending=False).index\n",
        "cluster_mapping = {old: new for new, old in enumerate(cluster_order)}\n",
        "anime_df[\"cluster\"] = anime_df[\"cluster\"].map(cluster_mapping).fillna(-1).astype(int)\n",
        "\n",
        "# Menampilkan hasil clustering terbaik\n",
        "print(f\"Silhouette Score Sebelum Feature Selection: {silhouette_before}\")\n",
        "print(f\"Silhouette Score Setelah Feature Selection: {silhouette_after}\")\n",
        "print(anime_df[['name', 'cluster']].head())"
      ],
      "metadata": {
        "colab": {
          "base_uri": "https://localhost:8080/"
        },
        "id": "aYbqqd22GDii",
        "outputId": "5e6a8e70-94ce-41bb-aa6c-ef496ae18e6e"
      },
      "execution_count": 30,
      "outputs": [
        {
          "output_type": "stream",
          "name": "stderr",
          "text": [
            "/usr/local/lib/python3.11/dist-packages/sklearn/feature_selection/_univariate_selection.py:112: RuntimeWarning: divide by zero encountered in divide\n",
            "  f = msb / msw\n"
          ]
        },
        {
          "output_type": "stream",
          "name": "stdout",
          "text": [
            "Silhouette Score Sebelum Feature Selection: 0.8305116397436049\n",
            "Silhouette Score Setelah Feature Selection: 0.8305116397436049\n",
            "                               name  cluster\n",
            "0                    Kimi no Na wa.        1\n",
            "1  Fullmetal Alchemist: Brotherhood        0\n",
            "2                          Gintama°        2\n",
            "3                       Steins;Gate        0\n",
            "4                     Gintama&#039;        2\n"
          ]
        }
      ]
    },
    {
      "cell_type": "markdown",
      "source": [
        "## **d. Visualisasi Hasil Clustering**"
      ],
      "metadata": {
        "id": "nn01TKkLLRiF"
      }
    },
    {
      "cell_type": "markdown",
      "source": [
        "Setelah model clustering dilatih dan jumlah cluster optimal ditentukan, langkah selanjutnya adalah menampilkan hasil clustering melalui visualisasi.\n",
        "\n",
        "Berikut adalah **rekomendasi** tahapannya.\n",
        "1. Tampilkan hasil clustering dalam bentuk visualisasi, seperti grafik scatter plot atau 2D PCA projection."
      ],
      "metadata": {
        "id": "gaz0fnhhMkRI"
      }
    },
    {
      "cell_type": "code",
      "source": [
        "# Menampilkan rata-rata rating dan members per cluster\n",
        "cluster_summary = anime_df.groupby(\"cluster\")[['rating', 'members']].mean()\n",
        "print(\"\\nRata-rata Rating dan Members per Cluster:\")\n",
        "print(cluster_summary)\n",
        "\n",
        "X = pd.concat([rating_encoded_df, anime_df[['members_scaled']]], axis=1)\n",
        "\n",
        "pca = PCA(n_components=2)\n",
        "X_pca = pca.fit_transform(X)\n",
        "\n",
        "anime_df['pca_1'] = X_pca[:, 0]\n",
        "anime_df['pca_2'] = X_pca[:, 1]\n",
        "\n",
        "plt.figure(figsize=(10, 6))\n",
        "plt.scatter(anime_df['pca_1'], anime_df['pca_2'], c=anime_df['cluster'], cmap='viridis', alpha=0.7)\n",
        "plt.xlabel('Principal Component 1')\n",
        "plt.ylabel('Principal Component 2')\n",
        "plt.title('Visualisasi Cluster dengan PCA')\n",
        "plt.colorbar(label='Cluster')\n",
        "plt.show()"
      ],
      "metadata": {
        "id": "lfOjVvfYM-4v",
        "colab": {
          "base_uri": "https://localhost:8080/",
          "height": 772
        },
        "outputId": "420744a2-c7d5-43cd-bd51-56e5ea469ba2"
      },
      "execution_count": 31,
      "outputs": [
        {
          "output_type": "stream",
          "name": "stdout",
          "text": [
            "\n",
            "Rata-rata Rating dan Members per Cluster:\n",
            "           rating        members\n",
            "cluster                         \n",
            "0        8.347143  563476.959184\n",
            "1        8.004951  260152.230392\n",
            "2        7.664079  106920.536508\n",
            "3        7.385704   14425.771040\n",
            "4        5.983192   13017.405904\n",
            "5        6.528607    5011.785932\n",
            "6        5.596151    1168.166118\n",
            "7        4.615320     408.737767\n"
          ]
        },
        {
          "output_type": "display_data",
          "data": {
            "text/plain": [
              "<Figure size 1000x600 with 2 Axes>"
            ],
            "image/png": "[encoded data removed]"
          },
          "metadata": {}
        }
      ]
    },
    {
      "cell_type": "markdown",
      "source": [
        "## **e. Analisis dan Interpretasi Hasil Cluster**"
      ],
      "metadata": {
        "id": "X4eydPWJLH4I"
      }
    },
    {
      "cell_type": "markdown",
      "source": [
        "### Interpretasi Target"
      ],
      "metadata": {
        "id": "mxTeTkTkA7o6"
      }
    },
    {
      "cell_type": "markdown",
      "source": [
        "**Tutorial: Melakukan Inverse Transform pada Data Target Setelah Clustering**\n",
        "\n",
        "Setelah melakukan clustering dengan model **KMeans**, kita perlu mengembalikan data yang telah diubah (normalisasi, standarisasi, atau label encoding) ke bentuk aslinya. Berikut adalah langkah-langkahnya.\n",
        "\n",
        "---\n",
        "\n",
        "**1. Tambahkan Hasil Label Cluster ke DataFrame**\n",
        "Setelah mendapatkan hasil clustering, kita tambahkan label cluster ke dalam DataFrame yang telah dinormalisasi.\n",
        "\n",
        "```python\n",
        "df_normalized['Cluster'] = model_kmeans.labels_\n",
        "```\n",
        "\n",
        "Lakukan Inverse Transform pada feature yang sudah dilakukan Labelisasi dan Standararisasi. Berikut code untuk melakukannya:\n",
        "label_encoder.inverse_transform(X_Selected[['Fitur']])\n",
        "\n",
        "Lalu masukkan ke dalam kolom dataset asli atau membuat dataframe baru\n",
        "```python\n",
        "df_normalized['Fitur'] = label_encoder.inverse_transform(df_normalized[['Fitur']])\n",
        "```\n",
        "Masukkan Data yang Sudah Di-Inverse ke dalam Dataset Asli atau Buat DataFrame Baru\n",
        "```python\n",
        "df_original['Fitur'] = df_normalized['Fitur']\n",
        "```"
      ],
      "metadata": {
        "id": "NJDsBARmIsbW"
      }
    },
    {
      "cell_type": "code",
      "source": [
        "# Drop kolom yang telah distandarisasi\n",
        "anime_df.drop(columns=['members_scaled'], inplace=True)\n",
        "\n",
        "# Cek apakah kolom berhasil dihapus\n",
        "print(anime_df.head())"
      ],
      "metadata": {
        "colab": {
          "base_uri": "https://localhost:8080/"
        },
        "id": "Ro_h8m9XhHyN",
        "outputId": "b45d99c1-e070-4688-9bf4-876100b84248"
      },
      "execution_count": 32,
      "outputs": [
        {
          "output_type": "stream",
          "name": "stdout",
          "text": [
            "   anime_id                              name  \\\n",
            "0     32281                    Kimi no Na wa.   \n",
            "1      5114  Fullmetal Alchemist: Brotherhood   \n",
            "2     28977                          Gintama°   \n",
            "3      9253                       Steins;Gate   \n",
            "4      9969                     Gintama&#039;   \n",
            "\n",
            "                                               genre   type  episodes  rating  \\\n",
            "0               Drama, Romance, School, Supernatural  Movie       1.0    9.37   \n",
            "1  Action, Adventure, Drama, Fantasy, Magic, Mili...     TV      64.0    9.26   \n",
            "2  Action, Comedy, Historical, Parody, Samurai, S...     TV      51.0    9.25   \n",
            "3                                   Sci-Fi, Thriller     TV      24.0    9.17   \n",
            "4  Action, Comedy, Historical, Parody, Samurai, S...     TV      51.0    9.16   \n",
            "\n",
            "   members rating_category  cluster  cluster_before  cluster_after      pca_1  \\\n",
            "0   200630       Excellent        1               2              2   3.302001   \n",
            "1   793665       Excellent        0               5              5  13.918956   \n",
            "2   114262       Excellent        2               6              6   1.755777   \n",
            "3   673572       Excellent        0               5              5  11.768962   \n",
            "4   151266       Excellent        2               6              6   2.418250   \n",
            "\n",
            "      pca_2  \n",
            "0  0.303132  \n",
            "1  1.746479  \n",
            "2  0.092927  \n",
            "3  1.454193  \n",
            "4  0.182989  \n"
          ]
        }
      ]
    },
    {
      "cell_type": "code",
      "source": [
        "# Drop kolom yang telah distandarisasi\n",
        "anime_df.drop(columns=['rating_category'], inplace=True)\n",
        "\n",
        "# Cek apakah kolom berhasil dihapus\n",
        "print(anime_df.head())"
      ],
      "metadata": {
        "colab": {
          "base_uri": "https://localhost:8080/"
        },
        "id": "v5-OTFYIkIvI",
        "outputId": "f1c59642-6e01-42f7-8a85-00a55387d5c2"
      },
      "execution_count": 33,
      "outputs": [
        {
          "output_type": "stream",
          "name": "stdout",
          "text": [
            "   anime_id                              name  \\\n",
            "0     32281                    Kimi no Na wa.   \n",
            "1      5114  Fullmetal Alchemist: Brotherhood   \n",
            "2     28977                          Gintama°   \n",
            "3      9253                       Steins;Gate   \n",
            "4      9969                     Gintama&#039;   \n",
            "\n",
            "                                               genre   type  episodes  rating  \\\n",
            "0               Drama, Romance, School, Supernatural  Movie       1.0    9.37   \n",
            "1  Action, Adventure, Drama, Fantasy, Magic, Mili...     TV      64.0    9.26   \n",
            "2  Action, Comedy, Historical, Parody, Samurai, S...     TV      51.0    9.25   \n",
            "3                                   Sci-Fi, Thriller     TV      24.0    9.17   \n",
            "4  Action, Comedy, Historical, Parody, Samurai, S...     TV      51.0    9.16   \n",
            "\n",
            "   members  cluster  cluster_before  cluster_after      pca_1     pca_2  \n",
            "0   200630        1               2              2   3.302001  0.303132  \n",
            "1   793665        0               5              5  13.918956  1.746479  \n",
            "2   114262        2               6              6   1.755777  0.092927  \n",
            "3   673572        0               5              5  11.768962  1.454193  \n",
            "4   151266        2               6              6   2.418250  0.182989  \n"
          ]
        }
      ]
    },
    {
      "cell_type": "code",
      "source": [
        "# Drop kolom yang telah distandarisasi\n",
        "anime_df.drop(columns=['cluster_before', \"cluster_after\"], inplace=True)\n",
        "\n",
        "# Cek apakah kolom berhasil dihapus\n",
        "print(anime_df.head())"
      ],
      "metadata": {
        "colab": {
          "base_uri": "https://localhost:8080/"
        },
        "id": "zCMEA3wM2rPd",
        "outputId": "3f2bfcf3-aae3-4e1a-b14d-7d2111aaae21"
      },
      "execution_count": 35,
      "outputs": [
        {
          "output_type": "stream",
          "name": "stdout",
          "text": [
            "   anime_id                              name  \\\n",
            "0     32281                    Kimi no Na wa.   \n",
            "1      5114  Fullmetal Alchemist: Brotherhood   \n",
            "2     28977                          Gintama°   \n",
            "3      9253                       Steins;Gate   \n",
            "4      9969                     Gintama&#039;   \n",
            "\n",
            "                                               genre   type  episodes  rating  \\\n",
            "0               Drama, Romance, School, Supernatural  Movie       1.0    9.37   \n",
            "1  Action, Adventure, Drama, Fantasy, Magic, Mili...     TV      64.0    9.26   \n",
            "2  Action, Comedy, Historical, Parody, Samurai, S...     TV      51.0    9.25   \n",
            "3                                   Sci-Fi, Thriller     TV      24.0    9.17   \n",
            "4  Action, Comedy, Historical, Parody, Samurai, S...     TV      51.0    9.16   \n",
            "\n",
            "   members  cluster      pca_1     pca_2  \n",
            "0   200630        1   3.302001  0.303132  \n",
            "1   793665        0  13.918956  1.746479  \n",
            "2   114262        2   1.755777  0.092927  \n",
            "3   673572        0  11.768962  1.454193  \n",
            "4   151266        2   2.418250  0.182989  \n"
          ]
        }
      ]
    },
    {
      "cell_type": "markdown",
      "source": [
        "Setelah melakukan clustering, langkah selanjutnya adalah menganalisis karakteristik dari masing-masing cluster berdasarkan fitur yang tersedia.\n",
        "\n",
        "Berikut adalah **rekomendasi** tahapannya.\n",
        "1. Analisis karakteristik tiap cluster berdasarkan fitur yang tersedia (misalnya, distribusi nilai dalam cluster).\n",
        "2. Berikan interpretasi: Apakah hasil clustering sesuai dengan ekspektasi dan logika bisnis? Apakah ada pola tertentu yang bisa dimanfaatkan?"
      ],
      "metadata": {
        "id": "SENfLnfRMpC-"
      }
    },
    {
      "cell_type": "code",
      "source": [
        "# Fungsi untuk menghitung distribusi genre per cluster\n",
        "def count_top_genres_per_cluster(df, cluster_col, genre_col, top_n=10):\n",
        "    cluster_genre_counts = {}\n",
        "\n",
        "    for cluster, group in df.groupby(cluster_col):\n",
        "        genre_counter = Counter()\n",
        "\n",
        "        for genres in group[genre_col].dropna():\n",
        "            if isinstance(genres, str):\n",
        "                genre_list = genres.split(', ')\n",
        "            elif isinstance(genres, list):\n",
        "                genre_list = genres\n",
        "            else:\n",
        "                continue\n",
        "\n",
        "            genre_counter.update(genre_list)\n",
        "\n",
        "        # Ambil hanya top N genre\n",
        "        top_genres = dict(genre_counter.most_common(top_n))\n",
        "        cluster_genre_counts[cluster] = top_genres\n",
        "\n",
        "    return pd.DataFrame(cluster_genre_counts).fillna(0).astype(int).T\n",
        "\n",
        "def analyze_clusters(df):\n",
        "    for cluster, group in df.groupby(\"cluster\"):\n",
        "        print(f\"\\n## Analisis Cluster: {cluster}\")\n",
        "\n",
        "        # Analisis jumlah data per cluster\n",
        "        num_data = len(group)\n",
        "        print(f\"\\nJumlah Data: {num_data}\")\n",
        "\n",
        "        # Analisis rata-rata rating, jumlah episode, dan jumlah members per cluster\n",
        "        cluster_summary = group[[\"rating\", \"episodes\", \"members\"]].mean().round(2)\n",
        "        print(\"\\nRata-rata Rating, Jumlah Episode, dan Members:\")\n",
        "        print(cluster_summary.to_markdown())\n",
        "\n",
        "        # Analisis distribusi genre per cluster (hanya 10 genre terbanyak per cluster)\n",
        "        genre_distribution = count_top_genres_per_cluster(group, \"cluster\", \"genre\", top_n=10)\n",
        "        print(\"\\nDistribusi 10 Genre Terbanyak:\")\n",
        "        print(genre_distribution.to_markdown())\n",
        "\n",
        "# Panggil fungsi untuk melakukan analisis\n",
        "analyze_clusters(anime_df)"
      ],
      "metadata": {
        "id": "MFq0x-OzM_Wt",
        "colab": {
          "base_uri": "https://localhost:8080/"
        },
        "outputId": "f062c786-74e7-4f8a-df17-c3ab0143c615"
      },
      "execution_count": 37,
      "outputs": [
        {
          "output_type": "stream",
          "name": "stdout",
          "text": [
            "\n",
            "## Analisis Cluster: 0\n",
            "\n",
            "Jumlah Data: 49\n",
            "\n",
            "Rata-rata Rating, Jumlah Episode, dan Members:\n",
            "|          |         0 |\n",
            "|:---------|----------:|\n",
            "| rating   |      8.35 |\n",
            "| episodes |     39.73 |\n",
            "| members  | 563477    |\n",
            "\n",
            "Distribusi 10 Genre Terbanyak:\n",
            "|    |   Action |   Supernatural |   Drama |   Comedy |   Shounen |   Adventure |   Fantasy |   Sci-Fi |   Super Power |   Romance |\n",
            "|---:|---------:|---------------:|--------:|---------:|----------:|------------:|----------:|---------:|--------------:|----------:|\n",
            "|  0 |       35 |             21 |      18 |       18 |        15 |          14 |        14 |       13 |            12 |         9 |\n",
            "\n",
            "## Analisis Cluster: 1\n",
            "\n",
            "Jumlah Data: 204\n",
            "\n",
            "Rata-rata Rating, Jumlah Episode, dan Members:\n",
            "|          |         0 |\n",
            "|:---------|----------:|\n",
            "| rating   |      8    |\n",
            "| episodes |     24.11 |\n",
            "| members  | 260152    |\n",
            "\n",
            "Distribusi 10 Genre Terbanyak:\n",
            "|    |   Comedy |   Action |   Romance |   School |   Supernatural |   Fantasy |   Shounen |   Drama |   Sci-Fi |   Adventure |\n",
            "|---:|---------:|---------:|----------:|---------:|---------------:|----------:|----------:|--------:|---------:|------------:|\n",
            "|  1 |      107 |       88 |        84 |       69 |             63 |        58 |        55 |      50 |       40 |          40 |\n",
            "\n",
            "## Analisis Cluster: 2\n",
            "\n",
            "Jumlah Data: 630\n",
            "\n",
            "Rata-rata Rating, Jumlah Episode, dan Members:\n",
            "|          |         0 |\n",
            "|:---------|----------:|\n",
            "| rating   |      7.66 |\n",
            "| episodes |     16.67 |\n",
            "| members  | 106921    |\n",
            "\n",
            "Distribusi 10 Genre Terbanyak:\n",
            "|    |   Comedy |   Action |   Romance |   Drama |   Supernatural |   School |   Fantasy |   Shounen |   Sci-Fi |   Adventure |\n",
            "|---:|---------:|---------:|----------:|--------:|---------------:|---------:|----------:|----------:|---------:|------------:|\n",
            "|  2 |      315 |      266 |       202 |     174 |            166 |      161 |       147 |       136 |      120 |         101 |\n",
            "\n",
            "## Analisis Cluster: 3\n",
            "\n",
            "Jumlah Data: 2721\n",
            "\n",
            "Rata-rata Rating, Jumlah Episode, dan Members:\n",
            "|          |        0 |\n",
            "|:---------|---------:|\n",
            "| rating   |     7.39 |\n",
            "| episodes |    15.13 |\n",
            "| members  | 14425.8  |\n",
            "\n",
            "Distribusi 10 Genre Terbanyak:\n",
            "|    |   Comedy |   Action |   Adventure |   Shounen |   Drama |   Sci-Fi |   Fantasy |   Romance |   School |   Slice of Life |\n",
            "|---:|---------:|---------:|------------:|----------:|--------:|---------:|----------:|----------:|---------:|----------------:|\n",
            "|  3 |     1226 |      811 |         722 |       680 |     659 |      596 |       581 |       439 |      349 |             335 |\n",
            "\n",
            "## Analisis Cluster: 4\n",
            "\n",
            "Jumlah Data: 542\n",
            "\n",
            "Rata-rata Rating, Jumlah Episode, dan Members:\n",
            "|          |        0 |\n",
            "|:---------|---------:|\n",
            "| rating   |     5.98 |\n",
            "| episodes |     8.31 |\n",
            "| members  | 13017.4  |\n",
            "\n",
            "Distribusi 10 Genre Terbanyak:\n",
            "|    |   Comedy |   Drama |   Action |   Shounen |   Adventure |   Kids |   Fantasy |   Sci-Fi |   Slice of Life |   Historical |\n",
            "|---:|---------:|--------:|---------:|----------:|------------:|-------:|----------:|---------:|----------------:|-------------:|\n",
            "|  4 |      196 |     119 |      112 |        98 |          85 |     84 |        69 |       63 |              61 |           55 |\n",
            "\n",
            "## Analisis Cluster: 5\n",
            "\n",
            "Jumlah Data: 4919\n",
            "\n",
            "Rata-rata Rating, Jumlah Episode, dan Members:\n",
            "|          |       0 |\n",
            "|:---------|--------:|\n",
            "| rating   |    6.53 |\n",
            "| episodes |   14.7  |\n",
            "| members  | 5011.79 |\n",
            "\n",
            "Distribusi 10 Genre Terbanyak:\n",
            "|    |   Comedy |   Action |   Adventure |   Fantasy |   Sci-Fi |   Drama |   Kids |   Hentai |   Shounen |   Romance |\n",
            "|---:|---------:|---------:|------------:|----------:|---------:|--------:|-------:|---------:|----------:|----------:|\n",
            "|  5 |     1807 |     1084 |        1009 |       988 |      886 |     752 |    641 |      614 |       606 |       554 |\n",
            "\n",
            "## Analisis Cluster: 6\n",
            "\n",
            "Jumlah Data: 2432\n",
            "\n",
            "Rata-rata Rating, Jumlah Episode, dan Members:\n",
            "|          |       0 |\n",
            "|:---------|--------:|\n",
            "| rating   |    5.6  |\n",
            "| episodes |    7.22 |\n",
            "| members  | 1168.17 |\n",
            "\n",
            "Distribusi 10 Genre Terbanyak:\n",
            "|    |   Comedy |   Kids |   Hentai |   Fantasy |   Action |   Adventure |   Sci-Fi |   Music |   Drama |   Slice of Life |\n",
            "|---:|---------:|-------:|---------:|----------:|---------:|------------:|---------:|--------:|--------:|----------------:|\n",
            "|  6 |      736 |    443 |      401 |       371 |      349 |         309 |      301 |     280 |     206 |             187 |\n",
            "\n",
            "## Analisis Cluster: 7\n",
            "\n",
            "Jumlah Data: 797\n",
            "\n",
            "Rata-rata Rating, Jumlah Episode, dan Members:\n",
            "|          |      0 |\n",
            "|:---------|-------:|\n",
            "| rating   |   4.62 |\n",
            "| episodes |   4.67 |\n",
            "| members  | 408.74 |\n",
            "\n",
            "Distribusi 10 Genre Terbanyak:\n",
            "|    |   Comedy |   Kids |   Music |   Action |   Dementia |   Fantasy |   Adventure |   Slice of Life |   Sci-Fi |   Hentai |\n",
            "|---:|---------:|-------:|--------:|---------:|-----------:|----------:|------------:|----------------:|---------:|---------:|\n",
            "|  7 |      240 |    197 |     125 |      100 |         84 |        81 |          68 |              59 |       51 |       49 |\n"
          ]
        }
      ]
    },
    {
      "cell_type": "markdown",
      "source": [
        "# Analisis Karakteristik Cluster dari Model K-Means\n",
        "\n",
        "## Cluster 0 (Anime Masterpiece)\n",
        "- **Jumlah Data:** 49\n",
        "- **Rata-rata Rating:** 8.35\n",
        "- **Rata-rata Jumlah Episode:** 39.73\n",
        "- **Rata-rata Members:** 563,477\n",
        "- **Top Genre:** Action, Supernatural, Drama, Comedy, Shounen\n",
        "- **Analisis:** Cluster ini berisi anime dengan rating tinggi dan jumlah anggota yang besar. Anime dalam kategori ini cenderung memiliki jumlah episode lebih panjang, menunjukkan cerita yang lebih kompleks dan populer.\n",
        "\n",
        "## Cluster 1 (Anime Populer)\n",
        "- **Jumlah Data:** 204\n",
        "- **Rata-rata Rating:** 8.00\n",
        "- **Rata-rata Jumlah Episode:** 24.11\n",
        "- **Rata-rata Members:** 260,152\n",
        "- **Top Genre:** Comedy, Action, Romance, School, Supernatural\n",
        "- **Analisis:** Anime dalam cluster ini cukup populer dengan rating yang masih tinggi. Genre utama menunjukkan adanya variasi cerita yang menarik banyak penonton.\n",
        "\n",
        "## Cluster 2 (Anime Menengah)\n",
        "- **Jumlah Data:** 630\n",
        "- **Rata-rata Rating:** 7.66\n",
        "- **Rata-rata Jumlah Episode:** 16.67\n",
        "- **Rata-rata Members:** 106,921\n",
        "- **Top Genre:** Comedy, Action, Romance, Drama, Supernatural\n",
        "- **Analisis:** Anime dalam cluster ini memiliki rating cukup baik tetapi tidak sepopuler cluster sebelumnya. Sebagian besar memiliki durasi lebih pendek.\n",
        "\n",
        "## Cluster 3 (Anime Biasa)\n",
        "- **Jumlah Data:** 2,721\n",
        "- **Rata-rata Rating:** 7.39\n",
        "- **Rata-rata Jumlah Episode:** 15.13\n",
        "- **Rata-rata Members:** 14,425\n",
        "- **Top Genre:** Comedy, Action, Adventure, Shounen, Drama\n",
        "- **Analisis:** Cluster ini berisi anime dengan rating rata-rata yang masih layak tonton, tetapi kurang populer dibandingkan cluster di atas.\n",
        "\n",
        "## Cluster 4 (Anime Kurang Populer)\n",
        "- **Jumlah Data:** 542\n",
        "- **Rata-rata Rating:** 5.98\n",
        "- **Rata-rata Jumlah Episode:** 8.31\n",
        "- **Rata-rata Members:** 13,017\n",
        "- **Top Genre:** Comedy, Drama, Action, Shounen, Adventure\n",
        "- **Analisis:** Cluster ini berisi anime dengan rating rendah dan jumlah anggota sedikit. Banyak di antaranya adalah anime pendek atau kurang menarik bagi penonton umum.\n",
        "\n",
        "## Cluster 5 (Anime Niche)\n",
        "- **Jumlah Data:** 4,919\n",
        "- **Rata-rata Rating:** 6.53\n",
        "- **Rata-rata Jumlah Episode:** 14.7\n",
        "- **Rata-rata Members:** 5,011\n",
        "- **Top Genre:** Comedy, Action, Adventure, Fantasy, Sci-Fi\n",
        "- **Analisis:** Anime dalam cluster ini memiliki rating lebih rendah dan lebih sedikit anggota, kemungkinan besar mencakup anime yang lebih spesifik atau kurang dipromosikan.\n",
        "\n",
        "## Cluster 6 (Anime Spesifik)\n",
        "- **Jumlah Data:** 2,432\n",
        "- **Rata-rata Rating:** 5.6\n",
        "- **Rata-rata Jumlah Episode:** 7.22\n",
        "- **Rata-rata Members:** 1,168\n",
        "- **Top Genre:** Comedy, Kids, Hentai, Fantasy, Action\n",
        "- **Analisis:** Cluster ini mencakup anime dengan rating lebih rendah, kemungkinan besar terdiri dari anime bertema anak-anak atau anime dewasa yang lebih niche.\n",
        "\n",
        "## Cluster 7 (Anime Tidak Populer)\n",
        "- **Jumlah Data:** 797\n",
        "- **Rata-rata Rating:** 4.62\n",
        "- **Rata-rata Jumlah Episode:** 4.67\n",
        "- **Rata-rata Members:** 408\n",
        "- **Top Genre:** Comedy, Kids, Music, Action, Dementia\n",
        "- **Analisis:** Cluster ini mencakup anime dengan rating paling rendah dan jumlah penonton sedikit. Banyak di antaranya adalah anime pendek, eksperimental, atau memiliki daya tarik yang sangat terbatas.\n"
      ],
      "metadata": {
        "id": "hOygRVqs_vdU"
      }
    },
    {
      "cell_type": "markdown",
      "source": [
        "# **7. Mengeksport Data**\n",
        "\n",
        "Simpan hasilnya ke dalam file CSV."
      ],
      "metadata": {
        "id": "jaYP1fx5VgWO"
      }
    },
    {
      "cell_type": "code",
      "source": [
        "anime_df.to_csv(\"Dataset_inisiasi.csv\", index=False)"
      ],
      "metadata": {
        "id": "fkbg_o80aRSH"
      },
      "execution_count": 36,
      "outputs": []
    }
  ]
}